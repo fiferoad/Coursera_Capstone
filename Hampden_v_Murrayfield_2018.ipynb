{
    "nbformat_minor": 2, 
    "cells": [
        {
            "source": "# Battle of the Neighborhoods\n# Hampden v Murrayfield\n# 2018\n\n## Hampden Stadium is in the Mount Florida area of Glasgow; Murrayfield Stadium is in the Roseburn Area of Edinburgh...\n\n### Let Battle Commence...", 
            "cell_type": "markdown", 
            "metadata": {}
        }, 
        {
            "source": "### Import necessary Libraries", 
            "cell_type": "markdown", 
            "metadata": {}
        }, 
        {
            "execution_count": 10, 
            "cell_type": "code", 
            "metadata": {}, 
            "outputs": [
                {
                    "output_type": "stream", 
                    "name": "stdout", 
                    "text": "Collecting folium\n  Downloading https://files.pythonhosted.org/packages/55/e2/7e523df8558b7f4b2ab4c62014fd378ccecce3fdc14c9928b272a88ae4cc/folium-0.7.0-py3-none-any.whl (85kB)\n\u001b[K    100% |\u2588\u2588\u2588\u2588\u2588\u2588\u2588\u2588\u2588\u2588\u2588\u2588\u2588\u2588\u2588\u2588\u2588\u2588\u2588\u2588\u2588\u2588\u2588\u2588\u2588\u2588\u2588\u2588\u2588\u2588\u2588\u2588| 92kB 6.3MB/s eta 0:00:01\n\u001b[?25hRequirement not upgraded as not directly required: jinja2 in /opt/conda/envs/DSX-Python35/lib/python3.5/site-packages (from folium)\nRequirement not upgraded as not directly required: six in /opt/conda/envs/DSX-Python35/lib/python3.5/site-packages (from folium)\nCollecting branca>=0.3.0 (from folium)\n  Downloading https://files.pythonhosted.org/packages/63/36/1c93318e9653f4e414a2e0c3b98fc898b4970e939afeedeee6075dd3b703/branca-0.3.1-py3-none-any.whl\nRequirement not upgraded as not directly required: numpy in /opt/conda/envs/DSX-Python35/lib/python3.5/site-packages (from folium)\nRequirement not upgraded as not directly required: requests in /opt/conda/envs/DSX-Python35/lib/python3.5/site-packages (from folium)\nRequirement not upgraded as not directly required: MarkupSafe>=0.23 in /opt/conda/envs/DSX-Python35/lib/python3.5/site-packages (from jinja2->folium)\nRequirement not upgraded as not directly required: chardet<3.1.0,>=3.0.2 in /opt/conda/envs/DSX-Python35/lib/python3.5/site-packages (from requests->folium)\nRequirement not upgraded as not directly required: idna<2.7,>=2.5 in /opt/conda/envs/DSX-Python35/lib/python3.5/site-packages (from requests->folium)\nRequirement not upgraded as not directly required: urllib3<1.23,>=1.21.1 in /opt/conda/envs/DSX-Python35/lib/python3.5/site-packages (from requests->folium)\nRequirement not upgraded as not directly required: certifi>=2017.4.17 in /opt/conda/envs/DSX-Python35/lib/python3.5/site-packages (from requests->folium)\nInstalling collected packages: branca, folium\nSuccessfully installed branca-0.3.1 folium-0.7.0\nFolium installed\nLibraries imported.\n"
                }
            ], 
            "source": "from geopy.geocoders import Nominatim # module to convert an address into latitude and longitude values\nimport requests # library to handle requests\nimport pandas as pd # library for data analsysis\npd.set_option('display.max_columns', None)\npd.set_option('display.max_rows', None)\n\nimport numpy as np # library to handle data in a vectorized manner\n    \n# tranforming json file into a pandas dataframe library\nfrom pandas.io.json import json_normalize\n\n# matplotlib and associated plotting modules\nimport matplotlib.cm as cm\nimport matplotlib.colors as colors\n\n# import k-means from scikit-learn\nfrom sklearn.cluster import KMeans\n\n!pip install folium\nimport folium # map rendering library\n\nprint ('Folium installed')\nprint ('Libraries imported.')"
        }, 
        {
            "source": "<a id='item1'></a>", 
            "cell_type": "markdown", 
            "metadata": {}
        }, 
        {
            "source": "## 1. Download and Explore Dataset", 
            "cell_type": "markdown", 
            "metadata": {}
        }, 
        {
            "source": "#### Download data from IBM server", 
            "cell_type": "markdown", 
            "metadata": {}
        }, 
        {
            "execution_count": 12, 
            "cell_type": "code", 
            "metadata": {}, 
            "outputs": [
                {
                    "execution_count": 12, 
                    "metadata": {}, 
                    "data": {
                        "text/html": "<div>\n<style scoped>\n    .dataframe tbody tr th:only-of-type {\n        vertical-align: middle;\n    }\n\n    .dataframe tbody tr th {\n        vertical-align: top;\n    }\n\n    .dataframe thead th {\n        text-align: right;\n    }\n</style>\n<table border=\"1\" class=\"dataframe\">\n  <thead>\n    <tr style=\"text-align: right;\">\n      <th></th>\n      <th>postal code</th>\n      <th>borough</th>\n      <th>neighborhood</th>\n      <th>latitude</th>\n      <th>longitude</th>\n    </tr>\n  </thead>\n  <tbody>\n    <tr>\n      <th>0</th>\n      <td>G42 9DD</td>\n      <td>Glasgow</td>\n      <td>Mount Florida</td>\n      <td>55.8258</td>\n      <td>-4.2520</td>\n    </tr>\n    <tr>\n      <th>1</th>\n      <td>EH12 5PJ</td>\n      <td>Edinburgh</td>\n      <td>Roseburn</td>\n      <td>55.9422</td>\n      <td>-3.2408</td>\n    </tr>\n  </tbody>\n</table>\n</div>", 
                        "text/plain": "  postal code    borough   neighborhood  latitude  longitude\n0     G42 9DD    Glasgow  Mount Florida   55.8258    -4.2520\n1    EH12 5PJ  Edinburgh       Roseburn   55.9422    -3.2408"
                    }, 
                    "output_type": "execute_result"
                }
            ], 
            "source": "# The code was removed by Watson Studio for sharing."
        }, 
        {
            "source": "#### Create a map of Scotland with neighborhoods superimposed on top", 
            "cell_type": "markdown", 
            "metadata": {}
        }, 
        {
            "execution_count": 25, 
            "cell_type": "code", 
            "metadata": {
                "scrolled": false
            }, 
            "outputs": [
                {
                    "execution_count": 25, 
                    "metadata": {}, 
                    "data": {
                        "text/html": "<div style=\"width:100%;\"><div style=\"position:relative;width:100%;height:0;padding-bottom:60%;\"><iframe src=\"data:text/html;charset=utf-8;base64,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\" style=\"position:absolute;width:100%;height:100%;left:0;top:0;border:none !important;\" allowfullscreen webkitallowfullscreen mozallowfullscreen></iframe></div></div>", 
                        "text/plain": "<folium.folium.Map at 0x2b964995f438>"
                    }, 
                    "output_type": "execute_result"
                }
            ], 
            "source": "# create map of Scotland using latitude and longitude values\nmap_scotland = folium.Map(location=[55.9024, -3.7431], zoom_start=9.5)\n\n# add markers to map\nfor lat, lng, postal_code, label_list in zip(df_data_1['latitude'], df_data_1['longitude'], df_data_1['postal code'], df_data_1['neighborhood']):\n    label = str(postal_code) + ', ' + (label_list)\n    folium.CircleMarker(\n        [lat, lng],\n        radius=5,\n        popup=label,\n        color='blue',\n        fill_color='#3186cc',\n        fill_opacity=0.7).add_to(map_scotland)  \n    \nmap_scotland"
        }, 
        {
            "source": "#### Define Foursquare Credentials and Version", 
            "cell_type": "markdown", 
            "metadata": {}
        }, 
        {
            "source": "Make sure that you have created a Foursquare developer account and have your credentials handy", 
            "cell_type": "markdown", 
            "metadata": {}
        }, 
        {
            "execution_count": 26, 
            "cell_type": "code", 
            "metadata": {}, 
            "outputs": [], 
            "source": "# The code was removed by Watson Studio for sharing."
        }, 
        {
            "source": "#### Let's explore the first neighborhood in our dataframe", 
            "cell_type": "markdown", 
            "metadata": {}
        }, 
        {
            "source": "Get the neighborhood's name", 
            "cell_type": "markdown", 
            "metadata": {}
        }, 
        {
            "execution_count": 27, 
            "cell_type": "code", 
            "metadata": {}, 
            "outputs": [
                {
                    "execution_count": 27, 
                    "metadata": {}, 
                    "data": {
                        "text/plain": "'Mount Florida'"
                    }, 
                    "output_type": "execute_result"
                }
            ], 
            "source": "df_data_1.loc[0, 'neighborhood']"
        }, 
        {
            "source": "Get the neighborhood's latitude and longitude values", 
            "cell_type": "markdown", 
            "metadata": {}
        }, 
        {
            "execution_count": 36, 
            "cell_type": "code", 
            "metadata": {}, 
            "outputs": [
                {
                    "output_type": "stream", 
                    "name": "stdout", 
                    "text": "Latitude and longitude values of \nMount Florida\n55.8258\n-4.252\n"
                }
            ], 
            "source": "neighborhood_latitude = df_data_1.loc[0, 'latitude'] # neighborhood latitude value\nneighborhood_longitude = df_data_1.loc[0, 'longitude'] # neighborhood longitude value\n\nneighborhood_name = df_data_1.loc[0, 'neighborhood'] # neighborhood name\n\nprint ('Latitude and longitude values of ')\nprint (neighborhood_name)\nprint(neighborhood_latitude)\nprint(neighborhood_longitude)"
        }, 
        {
            "source": "#### Now, let's get the top 100 venues that are within a radius of 1000 meters.", 
            "cell_type": "markdown", 
            "metadata": {}
        }, 
        {
            "source": "First, let's create the GET request URL", 
            "cell_type": "markdown", 
            "metadata": {}
        }, 
        {
            "execution_count": 37, 
            "cell_type": "code", 
            "metadata": {}, 
            "outputs": [
                {
                    "execution_count": 37, 
                    "metadata": {}, 
                    "data": {
                        "text/plain": "'https://api.foursquare.com/v2/venues/explore?&client_id=04AX30N3OMVLA4D3KIM5EN5HA34ZSOGVY14QV5Y2V3HUAMDF&client_secret=MMKHPKM2SBL5LSDP0F1FXSFDC2CYRDPNA1ZS45WK2JBMEVI1&v=20171018&ll=55.8258,-4.252&radius=1000&limit=100'"
                    }, 
                    "output_type": "execute_result"
                }
            ], 
            "source": "radius = 1000 # define radius\n\n# create URL\nurl = 'https://api.foursquare.com/v2/venues/explore?&client_id={}&client_secret={}&v={}&ll={},{}&radius={}&limit={}'.format(\n    CLIENT_ID, \n    CLIENT_SECRET, \n    VERSION, \n    neighborhood_latitude, \n    neighborhood_longitude, \n    radius, \n    LIMIT)\nurl"
        }, 
        {
            "source": "Send the GET request and examine the resutls", 
            "cell_type": "markdown", 
            "metadata": {}
        }, 
        {
            "execution_count": 38, 
            "cell_type": "code", 
            "metadata": {}, 
            "outputs": [
                {
                    "execution_count": 38, 
                    "metadata": {}, 
                    "data": {
                        "text/plain": "{'meta': {'code': 200, 'requestId': '5c16b9166a60717235e6e5e9'},\n 'response': {'groups': [{'items': [{'reasons': {'count': 0,\n       'items': [{'reasonName': 'globalInteractionReason',\n         'summary': 'This spot is popular',\n         'type': 'general'}]},\n      'referralId': 'e-0-4b69ceb7f964a52075b52be3-0',\n      'venue': {'beenHere': {'count': 0,\n        'lastCheckinExpiredAt': 0,\n        'marked': False,\n        'unconfirmedCount': 0},\n       'categories': [{'icon': {'prefix': 'https://ss3.4sqi.net/img/categories_v2/arts_entertainment/stadium_soccer_',\n          'suffix': '.png'},\n         'id': '4bf58dd8d48988d188941735',\n         'name': 'Soccer Stadium',\n         'pluralName': 'Soccer Stadiums',\n         'primary': True,\n         'shortName': 'Soccer'}],\n       'contact': {},\n       'hereNow': {'count': 0, 'groups': [], 'summary': 'Nobody here'},\n       'id': '4b69ceb7f964a52075b52be3',\n       'location': {'address': 'Letherby Dr',\n        'cc': 'GB',\n        'city': 'Glasgow',\n        'country': 'United Kingdom',\n        'distance': 28,\n        'formattedAddress': ['Letherby Dr',\n         'Glasgow',\n         'Glasgow City',\n         'G42 9BA',\n         'United Kingdom'],\n        'labeledLatLngs': [{'label': 'display',\n          'lat': 55.825563040690106,\n          'lng': -4.2518208859802025}],\n        'lat': 55.825563040690106,\n        'lng': -4.2518208859802025,\n        'postalCode': 'G42 9BA',\n        'state': 'Glasgow City'},\n       'name': 'Hampden Park',\n       'photos': {'count': 0, 'groups': []},\n       'stats': {'checkinsCount': 0,\n        'tipCount': 0,\n        'usersCount': 0,\n        'visitsCount': 0},\n       'verified': False}},\n     {'reasons': {'count': 0,\n       'items': [{'reasonName': 'globalInteractionReason',\n         'summary': 'This spot is popular',\n         'type': 'general'}]},\n      'referralId': 'e-0-4ebd169893ad3578f07e61f1-1',\n      'venue': {'beenHere': {'count': 0,\n        'lastCheckinExpiredAt': 0,\n        'marked': False,\n        'unconfirmedCount': 0},\n       'categories': [{'icon': {'prefix': 'https://ss3.4sqi.net/img/categories_v2/food/italian_',\n          'suffix': '.png'},\n         'id': '4bf58dd8d48988d110941735',\n         'name': 'Italian Restaurant',\n         'pluralName': 'Italian Restaurants',\n         'primary': True,\n         'shortName': 'Italian'}],\n       'contact': {},\n       'hereNow': {'count': 0, 'groups': [], 'summary': 'Nobody here'},\n       'id': '4ebd169893ad3578f07e61f1',\n       'location': {'address': '1102 Cathcart Rd.',\n        'cc': 'GB',\n        'city': 'Glasgow',\n        'country': 'United Kingdom',\n        'crossStreet': 'at Bolton Dr.',\n        'distance': 344,\n        'formattedAddress': ['1102 Cathcart Rd. (at Bolton Dr.)',\n         'Glasgow',\n         'Glasgow City',\n         'G42 9EG',\n         'United Kingdom'],\n        'labeledLatLngs': [{'label': 'display',\n          'lat': 55.82604976607632,\n          'lng': -4.2574850362263295}],\n        'lat': 55.82604976607632,\n        'lng': -4.2574850362263295,\n        'postalCode': 'G42 9EG',\n        'state': 'Glasgow City'},\n       'name': \"Sapori D'italia\",\n       'photos': {'count': 0, 'groups': []},\n       'stats': {'checkinsCount': 0,\n        'tipCount': 0,\n        'usersCount': 0,\n        'visitsCount': 0},\n       'verified': False}},\n     {'reasons': {'count': 0,\n       'items': [{'reasonName': 'globalInteractionReason',\n         'summary': 'This spot is popular',\n         'type': 'general'}]},\n      'referralId': 'e-0-544bde6e498e4d8c2ebc60bf-2',\n      'venue': {'beenHere': {'count': 0,\n        'lastCheckinExpiredAt': 0,\n        'marked': False,\n        'unconfirmedCount': 0},\n       'categories': [{'icon': {'prefix': 'https://ss3.4sqi.net/img/categories_v2/food/fishandchips_',\n          'suffix': '.png'},\n         'id': '4edd64a0c7ddd24ca188df1a',\n         'name': 'Fish & Chips Shop',\n         'pluralName': 'Fish & Chips Shops',\n         'primary': True,\n         'shortName': 'Fish & Chips'}],\n       'contact': {},\n       'hereNow': {'count': 0, 'groups': [], 'summary': 'Nobody here'},\n       'id': '544bde6e498e4d8c2ebc60bf',\n       'location': {'address': 'Cathcart Road',\n        'cc': 'GB',\n        'city': 'Glasgow',\n        'country': 'United Kingdom',\n        'distance': 465,\n        'formattedAddress': ['Cathcart Road',\n         'Glasgow',\n         'Glasgow City',\n         'United Kingdom'],\n        'labeledLatLngs': [{'label': 'display',\n          'lat': 55.82712582574032,\n          'lng': -4.259064287688302}],\n        'lat': 55.82712582574032,\n        'lng': -4.259064287688302,\n        'state': 'Glasgow City'},\n       'name': 'Hooked Fish & Chips',\n       'photos': {'count': 0, 'groups': []},\n       'stats': {'checkinsCount': 0,\n        'tipCount': 0,\n        'usersCount': 0,\n        'visitsCount': 0},\n       'verified': False}},\n     {'reasons': {'count': 0,\n       'items': [{'reasonName': 'globalInteractionReason',\n         'summary': 'This spot is popular',\n         'type': 'general'}]},\n      'referralId': 'e-0-4bf810775317a5931915ff7e-3',\n      'venue': {'beenHere': {'count': 0,\n        'lastCheckinExpiredAt': 0,\n        'marked': False,\n        'unconfirmedCount': 0},\n       'categories': [{'icon': {'prefix': 'https://ss3.4sqi.net/img/categories_v2/food/tapas_',\n          'suffix': '.png'},\n         'id': '4bf58dd8d48988d1db931735',\n         'name': 'Tapas Restaurant',\n         'pluralName': 'Tapas Restaurants',\n         'primary': True,\n         'shortName': 'Tapas'}],\n       'contact': {},\n       'hereNow': {'count': 0, 'groups': [], 'summary': 'Nobody here'},\n       'id': '4bf810775317a5931915ff7e',\n       'location': {'address': '138 Battlefield Rd.',\n        'cc': 'GB',\n        'city': 'Glasgow',\n        'country': 'United Kingdom',\n        'crossStreet': 'at Valeview Terr.',\n        'distance': 831,\n        'formattedAddress': ['138 Battlefield Rd. (at Valeview Terr.)',\n         'Glasgow',\n         'Glasgow City',\n         'G42 9JT',\n         'United Kingdom'],\n        'labeledLatLngs': [{'label': 'display',\n          'lat': 55.826488401557945,\n          'lng': -4.265233923850093}],\n        'lat': 55.826488401557945,\n        'lng': -4.265233923850093,\n        'postalCode': 'G42 9JT',\n        'state': 'Glasgow City'},\n       'name': 'Tinto Tapas Bar',\n       'photos': {'count': 0, 'groups': []},\n       'stats': {'checkinsCount': 0,\n        'tipCount': 0,\n        'usersCount': 0,\n        'visitsCount': 0},\n       'verified': False}},\n     {'reasons': {'count': 0,\n       'items': [{'reasonName': 'globalInteractionReason',\n         'summary': 'This spot is popular',\n         'type': 'general'}]},\n      'referralId': 'e-0-4d31aaca2c76a14343e867c7-4',\n      'venue': {'beenHere': {'count': 0,\n        'lastCheckinExpiredAt': 0,\n        'marked': False,\n        'unconfirmedCount': 0},\n       'categories': [{'icon': {'prefix': 'https://ss3.4sqi.net/img/categories_v2/arts_entertainment/museum_history_',\n          'suffix': '.png'},\n         'id': '4bf58dd8d48988d190941735',\n         'name': 'History Museum',\n         'pluralName': 'History Museums',\n         'primary': True,\n         'shortName': 'History Museum'}],\n       'contact': {},\n       'hereNow': {'count': 0, 'groups': [], 'summary': 'Nobody here'},\n       'id': '4d31aaca2c76a14343e867c7',\n       'location': {'address': 'Hampden Park',\n        'cc': 'GB',\n        'city': 'Glasgow',\n        'country': 'United Kingdom',\n        'crossStreet': 'Letherby Dr',\n        'distance': 63,\n        'formattedAddress': ['Hampden Park (Letherby Dr)',\n         'Glasgow',\n         'Glasgow City',\n         'G42 9BA',\n         'United Kingdom'],\n        'labeledLatLngs': [{'label': 'display',\n          'lat': 55.82523069711444,\n          'lng': -4.25204356794204}],\n        'lat': 55.82523069711444,\n        'lng': -4.25204356794204,\n        'postalCode': 'G42 9BA',\n        'state': 'Glasgow City'},\n       'name': 'The Scottish Football Museum',\n       'photos': {'count': 0, 'groups': []},\n       'stats': {'checkinsCount': 0,\n        'tipCount': 0,\n        'usersCount': 0,\n        'visitsCount': 0},\n       'verified': False}},\n     {'reasons': {'count': 0,\n       'items': [{'reasonName': 'globalInteractionReason',\n         'summary': 'This spot is popular',\n         'type': 'general'}]},\n      'referralId': 'e-0-4bfcc91c4cf820a1e390ebf4-5',\n      'venue': {'beenHere': {'count': 0,\n        'lastCheckinExpiredAt': 0,\n        'marked': False,\n        'unconfirmedCount': 0},\n       'categories': [{'icon': {'prefix': 'https://ss3.4sqi.net/img/categories_v2/food/italian_',\n          'suffix': '.png'},\n         'id': '4bf58dd8d48988d110941735',\n         'name': 'Italian Restaurant',\n         'pluralName': 'Italian Restaurants',\n         'primary': True,\n         'shortName': 'Italian'}],\n       'contact': {},\n       'hereNow': {'count': 0, 'groups': [], 'summary': 'Nobody here'},\n       'id': '4bfcc91c4cf820a1e390ebf4',\n       'location': {'address': '55 Battlefield Rd.',\n        'cc': 'GB',\n        'city': 'Glasgow',\n        'country': 'United Kingdom',\n        'distance': 903,\n        'formattedAddress': ['55 Battlefield Rd.',\n         'Glasgow',\n         'G42 9JL',\n         'United Kingdom'],\n        'labeledLatLngs': [{'label': 'display',\n          'lat': 55.82716550737663,\n          'lng': -4.266243696272729}],\n        'lat': 55.82716550737663,\n        'lng': -4.266243696272729,\n        'postalCode': 'G42 9JL'},\n       'name': 'Battlefield Rest',\n       'photos': {'count': 0, 'groups': []},\n       'stats': {'checkinsCount': 0,\n        'tipCount': 0,\n        'usersCount': 0,\n        'visitsCount': 0},\n       'verified': False}},\n     {'reasons': {'count': 0,\n       'items': [{'reasonName': 'globalInteractionReason',\n         'summary': 'This spot is popular',\n         'type': 'general'}]},\n      'referralId': 'e-0-4b6062b2f964a52007e329e3-6',\n      'venue': {'beenHere': {'count': 0,\n        'lastCheckinExpiredAt': 0,\n        'marked': False,\n        'unconfirmedCount': 0},\n       'categories': [{'icon': {'prefix': 'https://ss3.4sqi.net/img/categories_v2/shops/food_grocery_',\n          'suffix': '.png'},\n         'id': '52f2ab2ebcbc57f1066b8b46',\n         'name': 'Supermarket',\n         'pluralName': 'Supermarkets',\n         'primary': True,\n         'shortName': 'Supermarket'}],\n       'contact': {},\n       'hereNow': {'count': 0, 'groups': [], 'summary': 'Nobody here'},\n       'id': '4b6062b2f964a52007e329e3',\n       'location': {'address': '555 Prospect Hill Rd',\n        'cc': 'GB',\n        'city': 'Glasgow',\n        'country': 'United Kingdom',\n        'distance': 571,\n        'formattedAddress': ['555 Prospect Hill Rd',\n         'Glasgow',\n         'Glasgow City',\n         'G42 0AE',\n         'United Kingdom'],\n        'labeledLatLngs': [{'label': 'display',\n          'lat': 55.82976640019149,\n          'lng': -4.246208057089729}],\n        'lat': 55.82976640019149,\n        'lng': -4.246208057089729,\n        'postalCode': 'G42 0AE',\n        'state': 'Glasgow City'},\n       'name': 'Asda',\n       'photos': {'count': 0, 'groups': []},\n       'stats': {'checkinsCount': 0,\n        'tipCount': 0,\n        'usersCount': 0,\n        'visitsCount': 0},\n       'verified': False}},\n     {'reasons': {'count': 0,\n       'items': [{'reasonName': 'globalInteractionReason',\n         'summary': 'This spot is popular',\n         'type': 'general'}]},\n      'referralId': 'e-0-4bd74735304fce72824d33ab-7',\n      'venue': {'beenHere': {'count': 0,\n        'lastCheckinExpiredAt': 0,\n        'marked': False,\n        'unconfirmedCount': 0},\n       'categories': [{'icon': {'prefix': 'https://ss3.4sqi.net/img/categories_v2/travel/hotel_',\n          'suffix': '.png'},\n         'id': '4bf58dd8d48988d1fa931735',\n         'name': 'Hotel',\n         'pluralName': 'Hotels',\n         'primary': True,\n         'shortName': 'Hotel'}],\n       'contact': {},\n       'hereNow': {'count': 0, 'groups': [], 'summary': 'Nobody here'},\n       'id': '4bd74735304fce72824d33ab',\n       'location': {'address': '10-16 Queens Drive',\n        'cc': 'GB',\n        'city': 'Glasgow',\n        'country': 'United Kingdom',\n        'distance': 672,\n        'formattedAddress': ['10-16 Queens Drive',\n         'Glasgow',\n         'Glasgow City',\n         'G42 8BS',\n         'United Kingdom'],\n        'labeledLatLngs': [{'label': 'display',\n          'lat': 55.83078876304097,\n          'lng': -4.258067951163642}],\n        'lat': 55.83078876304097,\n        'lng': -4.258067951163642,\n        'postalCode': 'G42 8BS',\n        'state': 'Glasgow City'},\n       'name': 'No 10 Hotel',\n       'photos': {'count': 0, 'groups': []},\n       'stats': {'checkinsCount': 0,\n        'tipCount': 0,\n        'usersCount': 0,\n        'visitsCount': 0},\n       'verified': False}},\n     {'reasons': {'count': 0,\n       'items': [{'reasonName': 'globalInteractionReason',\n         'summary': 'This spot is popular',\n         'type': 'general'}]},\n      'referralId': 'e-0-4e36e8adb61cddd1cd4cd4c0-8',\n      'venue': {'beenHere': {'count': 0,\n        'lastCheckinExpiredAt': 0,\n        'marked': False,\n        'unconfirmedCount': 0},\n       'categories': [{'icon': {'prefix': 'https://ss3.4sqi.net/img/categories_v2/food/indian_',\n          'suffix': '.png'},\n         'id': '4bf58dd8d48988d10f941735',\n         'name': 'Indian Restaurant',\n         'pluralName': 'Indian Restaurants',\n         'primary': True,\n         'shortName': 'Indian'}],\n       'contact': {},\n       'hereNow': {'count': 0, 'groups': [], 'summary': 'Nobody here'},\n       'id': '4e36e8adb61cddd1cd4cd4c0',\n       'location': {'address': '250 Battlefield Rd.',\n        'cc': 'GB',\n        'city': 'Glasgow',\n        'country': 'United Kingdom',\n        'distance': 620,\n        'formattedAddress': ['250 Battlefield Rd.',\n         'Glasgow',\n         'G42 9HU',\n         'United Kingdom'],\n        'labeledLatLngs': [{'label': 'display',\n          'lat': 55.82518980469145,\n          'lng': -4.2618584632873535}],\n        'lat': 55.82518980469145,\n        'lng': -4.2618584632873535,\n        'postalCode': 'G42 9HU'},\n       'name': 'The Alishan Tandoori',\n       'photos': {'count': 0, 'groups': []},\n       'stats': {'checkinsCount': 0,\n        'tipCount': 0,\n        'usersCount': 0,\n        'visitsCount': 0},\n       'verified': False}},\n     {'reasons': {'count': 0,\n       'items': [{'reasonName': 'globalInteractionReason',\n         'summary': 'This spot is popular',\n         'type': 'general'}]},\n      'referralId': 'e-0-4ca09c8b0313370482227cd5-9',\n      'venue': {'beenHere': {'count': 0,\n        'lastCheckinExpiredAt': 0,\n        'marked': False,\n        'unconfirmedCount': 0},\n       'categories': [{'icon': {'prefix': 'https://ss3.4sqi.net/img/categories_v2/arts_entertainment/stadium_soccer_',\n          'suffix': '.png'},\n         'id': '4cce455aebf7b749d5e191f5',\n         'name': 'Soccer Field',\n         'pluralName': 'Soccer Fields',\n         'primary': True,\n         'shortName': 'Soccer Field'}],\n       'contact': {},\n       'hereNow': {'count': 0, 'groups': [], 'summary': 'Nobody here'},\n       'id': '4ca09c8b0313370482227cd5',\n       'location': {'address': '480 Prospecthill Rd',\n        'cc': 'GB',\n        'city': 'Glasgow',\n        'country': 'United Kingdom',\n        'distance': 576,\n        'formattedAddress': ['480 Prospecthill Rd',\n         'Glasgow',\n         'Glasgow City',\n         'G42 0BY',\n         'United Kingdom'],\n        'labeledLatLngs': [{'label': 'display',\n          'lat': 55.828397675970585,\n          'lng': -4.244014788086458}],\n        'lat': 55.828397675970585,\n        'lng': -4.244014788086458,\n        'postalCode': 'G42 0BY',\n        'state': 'Glasgow City'},\n       'name': 'Toryglen Regional Football Centre',\n       'photos': {'count': 0, 'groups': []},\n       'stats': {'checkinsCount': 0,\n        'tipCount': 0,\n        'usersCount': 0,\n        'visitsCount': 0},\n       'verified': False}},\n     {'reasons': {'count': 0,\n       'items': [{'reasonName': 'globalInteractionReason',\n         'summary': 'This spot is popular',\n         'type': 'general'}]},\n      'referralId': 'e-0-4bae5929f964a5201ea63be3-10',\n      'venue': {'beenHere': {'count': 0,\n        'lastCheckinExpiredAt': 0,\n        'marked': False,\n        'unconfirmedCount': 0},\n       'categories': [{'icon': {'prefix': 'https://ss3.4sqi.net/img/categories_v2/nightlife/pub_',\n          'suffix': '.png'},\n         'id': '4bf58dd8d48988d116941735',\n         'name': 'Bar',\n         'pluralName': 'Bars',\n         'primary': True,\n         'shortName': 'Bar'}],\n       'contact': {},\n       'hereNow': {'count': 0, 'groups': [], 'summary': 'Nobody here'},\n       'id': '4bae5929f964a5201ea63be3',\n       'location': {'address': '1153-1155 Cathcart Rd',\n        'cc': 'GB',\n        'city': 'Glasgow',\n        'country': 'United Kingdom',\n        'distance': 498,\n        'formattedAddress': ['1153-1155 Cathcart Rd',\n         'Glasgow',\n         'Glasgow City',\n         'G42 9HB',\n         'United Kingdom'],\n        'labeledLatLngs': [{'label': 'display',\n          'lat': 55.82343486400136,\n          'lng': -4.258775772314474}],\n        'lat': 55.82343486400136,\n        'lng': -4.258775772314474,\n        'postalCode': 'G42 9HB',\n        'state': 'Glasgow City'},\n       'name': 'Clockwork Beer Co',\n       'photos': {'count': 0, 'groups': []},\n       'stats': {'checkinsCount': 0,\n        'tipCount': 0,\n        'usersCount': 0,\n        'visitsCount': 0},\n       'verified': False}},\n     {'reasons': {'count': 0,\n       'items': [{'reasonName': 'globalInteractionReason',\n         'summary': 'This spot is popular',\n         'type': 'general'}]},\n      'referralId': 'e-0-4d53c1b73d73548114fc3f52-11',\n      'venue': {'beenHere': {'count': 0,\n        'lastCheckinExpiredAt': 0,\n        'marked': False,\n        'unconfirmedCount': 0},\n       'categories': [{'icon': {'prefix': 'https://ss3.4sqi.net/img/categories_v2/shops/food_grocery_',\n          'suffix': '.png'},\n         'id': '4bf58dd8d48988d118951735',\n         'name': 'Grocery Store',\n         'pluralName': 'Grocery Stores',\n         'primary': True,\n         'shortName': 'Grocery Store'}],\n       'contact': {},\n       'hereNow': {'count': 0, 'groups': [], 'summary': 'Nobody here'},\n       'id': '4d53c1b73d73548114fc3f52',\n       'location': {'address': '102 Battlefield Road, Langside',\n        'cc': 'GB',\n        'city': 'Glasgow',\n        'country': 'United Kingdom',\n        'distance': 905,\n        'formattedAddress': ['102 Battlefield Road, Langside',\n         'Glasgow',\n         'Glasgow City',\n         'G42 9JN',\n         'United Kingdom'],\n        'labeledLatLngs': [{'label': 'display',\n          'lat': 55.82705344387471,\n          'lng': -4.266315378025214}],\n        'lat': 55.82705344387471,\n        'lng': -4.266315378025214,\n        'postalCode': 'G42 9JN',\n        'state': 'Glasgow City'},\n       'name': 'Co-op Food',\n       'photos': {'count': 0, 'groups': []},\n       'stats': {'checkinsCount': 0,\n        'tipCount': 0,\n        'usersCount': 0,\n        'visitsCount': 0},\n       'verified': True}},\n     {'reasons': {'count': 0,\n       'items': [{'reasonName': 'globalInteractionReason',\n         'summary': 'This spot is popular',\n         'type': 'general'}]},\n      'referralId': 'e-0-4d876a93651041bd2c349b30-12',\n      'venue': {'beenHere': {'count': 0,\n        'lastCheckinExpiredAt': 0,\n        'marked': False,\n        'unconfirmedCount': 0},\n       'categories': [{'icon': {'prefix': 'https://ss3.4sqi.net/img/categories_v2/food/deli_',\n          'suffix': '.png'},\n         'id': '4bf58dd8d48988d1c5941735',\n         'name': 'Sandwich Place',\n         'pluralName': 'Sandwich Places',\n         'primary': True,\n         'shortName': 'Sandwiches'}],\n       'contact': {},\n       'hereNow': {'count': 0, 'groups': [], 'summary': 'Nobody here'},\n       'id': '4d876a93651041bd2c349b30',\n       'location': {'address': '128 Battlefield Rd.',\n        'cc': 'GB',\n        'city': 'Glasgow',\n        'country': 'United Kingdom',\n        'distance': 892,\n        'formattedAddress': ['128 Battlefield Rd.',\n         'Glasgow',\n         'Glasgow City',\n         'G42 9JT',\n         'United Kingdom'],\n        'labeledLatLngs': [{'label': 'display',\n          'lat': 55.826768741478034,\n          'lng': -4.266171455383301}],\n        'lat': 55.826768741478034,\n        'lng': -4.266171455383301,\n        'postalCode': 'G42 9JT',\n        'state': 'Glasgow City'},\n       'name': 'Subway',\n       'photos': {'count': 0, 'groups': []},\n       'stats': {'checkinsCount': 0,\n        'tipCount': 0,\n        'usersCount': 0,\n        'visitsCount': 0},\n       'verified': True}},\n     {'reasons': {'count': 0,\n       'items': [{'reasonName': 'globalInteractionReason',\n         'summary': 'This spot is popular',\n         'type': 'general'}]},\n      'referralId': 'e-0-4e986ea40aafaa1ef929680b-13',\n      'venue': {'beenHere': {'count': 0,\n        'lastCheckinExpiredAt': 0,\n        'marked': False,\n        'unconfirmedCount': 0},\n       'categories': [{'icon': {'prefix': 'https://ss3.4sqi.net/img/categories_v2/shops/food_grocery_',\n          'suffix': '.png'},\n         'id': '4bf58dd8d48988d118951735',\n         'name': 'Grocery Store',\n         'pluralName': 'Grocery Stores',\n         'primary': True,\n         'shortName': 'Grocery Store'}],\n       'contact': {},\n       'hereNow': {'count': 0, 'groups': [], 'summary': 'Nobody here'},\n       'id': '4e986ea40aafaa1ef929680b',\n       'location': {'address': 'Cathcart Rd',\n        'cc': 'GB',\n        'city': 'Glasgow',\n        'country': 'United Kingdom',\n        'distance': 371,\n        'formattedAddress': ['Cathcart Rd',\n         'Glasgow',\n         'Glasgow City',\n         'G42 9EA',\n         'United Kingdom'],\n        'labeledLatLngs': [{'label': 'display',\n          'lat': 55.82468719804293,\n          'lng': -4.257599855043541}],\n        'lat': 55.82468719804293,\n        'lng': -4.257599855043541,\n        'postalCode': 'G42 9EA',\n        'state': 'Glasgow City'},\n       'name': 'Tesco Express',\n       'photos': {'count': 0, 'groups': []},\n       'stats': {'checkinsCount': 0,\n        'tipCount': 0,\n        'usersCount': 0,\n        'visitsCount': 0},\n       'verified': True}},\n     {'reasons': {'count': 0,\n       'items': [{'reasonName': 'globalInteractionReason',\n         'summary': 'This spot is popular',\n         'type': 'general'}]},\n      'referralId': 'e-0-4bd291f49854d13a7a10fc4d-14',\n      'venue': {'beenHere': {'count': 0,\n        'lastCheckinExpiredAt': 0,\n        'marked': False,\n        'unconfirmedCount': 0},\n       'categories': [{'icon': {'prefix': 'https://ss3.4sqi.net/img/categories_v2/food/pizza_',\n          'suffix': '.png'},\n         'id': '4bf58dd8d48988d1ca941735',\n         'name': 'Pizza Place',\n         'pluralName': 'Pizza Places',\n         'primary': True,\n         'shortName': 'Pizza'}],\n       'contact': {},\n       'hereNow': {'count': 0, 'groups': [], 'summary': 'Nobody here'},\n       'id': '4bd291f49854d13a7a10fc4d',\n       'location': {'address': '166-168 Battlefield Rd.',\n        'cc': 'GB',\n        'city': 'Glasgow',\n        'country': 'United Kingdom',\n        'distance': 790,\n        'formattedAddress': ['166-168 Battlefield Rd.',\n         'Glasgow',\n         'Glasgow City',\n         'G42 9JT',\n         'United Kingdom'],\n        'labeledLatLngs': [{'label': 'display',\n          'lat': 55.82617671795676,\n          'lng': -4.2646270083593265}],\n        'lat': 55.82617671795676,\n        'lng': -4.2646270083593265,\n        'postalCode': 'G42 9JT',\n        'state': 'Glasgow City'},\n       'name': \"Domino's Pizza\",\n       'photos': {'count': 0, 'groups': []},\n       'stats': {'checkinsCount': 0,\n        'tipCount': 0,\n        'usersCount': 0,\n        'visitsCount': 0},\n       'verified': True}},\n     {'reasons': {'count': 0,\n       'items': [{'reasonName': 'globalInteractionReason',\n         'summary': 'This spot is popular',\n         'type': 'general'}]},\n      'referralId': 'e-0-4d2ed98c49bb721ec7258295-15',\n      'venue': {'beenHere': {'count': 0,\n        'lastCheckinExpiredAt': 0,\n        'marked': False,\n        'unconfirmedCount': 0},\n       'categories': [{'icon': {'prefix': 'https://ss3.4sqi.net/img/categories_v2/food/bakery_',\n          'suffix': '.png'},\n         'id': '4bf58dd8d48988d16a941735',\n         'name': 'Bakery',\n         'pluralName': 'Bakeries',\n         'primary': True,\n         'shortName': 'Bakery'}],\n       'contact': {},\n       'hereNow': {'count': 0, 'groups': [], 'summary': 'Nobody here'},\n       'id': '4d2ed98c49bb721ec7258295',\n       'location': {'address': '172 Battlefield Rd',\n        'cc': 'GB',\n        'city': 'Glasgow',\n        'country': 'United Kingdom',\n        'distance': 814,\n        'formattedAddress': ['172 Battlefield Rd',\n         'Glasgow',\n         'Glasgow City',\n         'G42 9JT',\n         'United Kingdom'],\n        'labeledLatLngs': [{'label': 'display',\n          'lat': 55.82619020719386,\n          'lng': -4.265012741088867}],\n        'lat': 55.82619020719386,\n        'lng': -4.265012741088867,\n        'postalCode': 'G42 9JT',\n        'state': 'Glasgow City'},\n       'name': 'Greggs',\n       'photos': {'count': 0, 'groups': []},\n       'stats': {'checkinsCount': 0,\n        'tipCount': 0,\n        'usersCount': 0,\n        'visitsCount': 0},\n       'verified': False}},\n     {'reasons': {'count': 0,\n       'items': [{'reasonName': 'globalInteractionReason',\n         'summary': 'This spot is popular',\n         'type': 'general'}]},\n      'referralId': 'e-0-4c2223e59a67a5934ef6db87-16',\n      'venue': {'beenHere': {'count': 0,\n        'lastCheckinExpiredAt': 0,\n        'marked': False,\n        'unconfirmedCount': 0},\n       'categories': [{'icon': {'prefix': 'https://ss3.4sqi.net/img/categories_v2/nightlife/pub_',\n          'suffix': '.png'},\n         'id': '4bf58dd8d48988d11b941735',\n         'name': 'Pub',\n         'pluralName': 'Pubs',\n         'primary': True,\n         'shortName': 'Pub'}],\n       'contact': {},\n       'hereNow': {'count': 1,\n        'groups': [{'count': 1,\n          'items': [],\n          'name': 'Other people here',\n          'type': 'others'}],\n        'summary': 'One other person is here'},\n       'id': '4c2223e59a67a5934ef6db87',\n       'location': {'address': '156-164 Ardmay Cres',\n        'cc': 'GB',\n        'city': 'Glasgow',\n        'country': 'United Kingdom',\n        'distance': 330,\n        'formattedAddress': ['156-164 Ardmay Cres',\n         'Glasgow',\n         'Glasgow City',\n         'G44 4PP',\n         'United Kingdom'],\n        'labeledLatLngs': [{'label': 'display',\n          'lat': 55.82348053185854,\n          'lng': -4.248708361316726}],\n        'lat': 55.82348053185854,\n        'lng': -4.248708361316726,\n        'postalCode': 'G44 4PP',\n        'state': 'Glasgow City'},\n       'name': 'The Beechwood',\n       'photos': {'count': 0, 'groups': []},\n       'stats': {'checkinsCount': 0,\n        'tipCount': 0,\n        'usersCount': 0,\n        'visitsCount': 0},\n       'verified': False}},\n     {'reasons': {'count': 0,\n       'items': [{'reasonName': 'globalInteractionReason',\n         'summary': 'This spot is popular',\n         'type': 'general'}]},\n      'referralId': 'e-0-4c866fa374d7b60c0809a4d8-17',\n      'venue': {'beenHere': {'count': 0,\n        'lastCheckinExpiredAt': 0,\n        'marked': False,\n        'unconfirmedCount': 0},\n       'categories': [{'icon': {'prefix': 'https://ss3.4sqi.net/img/categories_v2/food/indian_',\n          'suffix': '.png'},\n         'id': '4bf58dd8d48988d10f941735',\n         'name': 'Indian Restaurant',\n         'pluralName': 'Indian Restaurants',\n         'primary': True,\n         'shortName': 'Indian'}],\n       'contact': {},\n       'hereNow': {'count': 0, 'groups': [], 'summary': 'Nobody here'},\n       'id': '4c866fa374d7b60c0809a4d8',\n       'location': {'address': '1096 Cathcart Rd.',\n        'cc': 'GB',\n        'city': 'Glasgow',\n        'country': 'United Kingdom',\n        'crossStreet': 'at Bolton Dr.',\n        'distance': 353,\n        'formattedAddress': ['1096 Cathcart Rd. (at Bolton Dr.)',\n         'Glasgow',\n         'G42 9XW',\n         'United Kingdom'],\n        'labeledLatLngs': [{'label': 'display',\n          'lat': 55.82616610141198,\n          'lng': -4.257609844207764}],\n        'lat': 55.82616610141198,\n        'lng': -4.257609844207764,\n        'postalCode': 'G42 9XW'},\n       'name': 'Shezan Tandoori',\n       'photos': {'count': 0, 'groups': []},\n       'stats': {'checkinsCount': 0,\n        'tipCount': 0,\n        'usersCount': 0,\n        'visitsCount': 0},\n       'verified': False}},\n     {'reasons': {'count': 0,\n       'items': [{'reasonName': 'globalInteractionReason',\n         'summary': 'This spot is popular',\n         'type': 'general'}]},\n      'referralId': 'e-0-4d8dee933bfef04d24918b86-18',\n      'venue': {'beenHere': {'count': 0,\n        'lastCheckinExpiredAt': 0,\n        'marked': False,\n        'unconfirmedCount': 0},\n       'categories': [{'icon': {'prefix': 'https://ss3.4sqi.net/img/categories_v2/parks_outdoors/park_',\n          'suffix': '.png'},\n         'id': '4bf58dd8d48988d163941735',\n         'name': 'Park',\n         'pluralName': 'Parks',\n         'primary': True,\n         'shortName': 'Park'}],\n       'contact': {},\n       'hereNow': {'count': 0, 'groups': [], 'summary': 'Nobody here'},\n       'id': '4d8dee933bfef04d24918b86',\n       'location': {'cc': 'GB',\n        'city': 'Glasgow',\n        'country': 'United Kingdom',\n        'distance': 744,\n        'formattedAddress': ['Glasgow', 'Glasgow City', 'United Kingdom'],\n        'labeledLatLngs': [{'label': 'display',\n          'lat': 55.821061425913555,\n          'lng': -4.24359903979146}],\n        'lat': 55.821061425913555,\n        'lng': -4.24359903979146,\n        'state': 'Glasgow City'},\n       'name': 'Kings Park',\n       'photos': {'count': 0, 'groups': []},\n       'stats': {'checkinsCount': 0,\n        'tipCount': 0,\n        'usersCount': 0,\n        'visitsCount': 0},\n       'verified': False}},\n     {'reasons': {'count': 0,\n       'items': [{'reasonName': 'globalInteractionReason',\n         'summary': 'This spot is popular',\n         'type': 'general'}]},\n      'referralId': 'e-0-4c56efa8b7a31b8db50c4fda-19',\n      'venue': {'beenHere': {'count': 0,\n        'lastCheckinExpiredAt': 0,\n        'marked': False,\n        'unconfirmedCount': 0},\n       'categories': [{'icon': {'prefix': 'https://ss3.4sqi.net/img/categories_v2/building/gym_',\n          'suffix': '.png'},\n         'id': '4bf58dd8d48988d176941735',\n         'name': 'Gym',\n         'pluralName': 'Gyms',\n         'primary': True,\n         'shortName': 'Gym'}],\n       'contact': {},\n       'hereNow': {'count': 0, 'groups': [], 'summary': 'Nobody here'},\n       'id': '4c56efa8b7a31b8db50c4fda',\n       'location': {'address': '600 Aikenhead Road',\n        'cc': 'GB',\n        'city': 'Glasgow',\n        'country': 'United Kingdom',\n        'crossStreet': 'Myrtle Park',\n        'distance': 747,\n        'formattedAddress': ['600 Aikenhead Road (Myrtle Park)',\n         'Glasgow',\n         'Glasgow City',\n         'G42 0PD',\n         'United Kingdom'],\n        'labeledLatLngs': [{'label': 'display',\n          'lat': 55.832304978821156,\n          'lng': -4.249019263684892}],\n        'lat': 55.832304978821156,\n        'lng': -4.249019263684892,\n        'postalCode': 'G42 0PD',\n        'state': 'Glasgow City'},\n       'name': 'Glasgow Club Holyrood',\n       'photos': {'count': 0, 'groups': []},\n       'stats': {'checkinsCount': 0,\n        'tipCount': 0,\n        'usersCount': 0,\n        'visitsCount': 0},\n       'verified': False}},\n     {'reasons': {'count': 0,\n       'items': [{'reasonName': 'globalInteractionReason',\n         'summary': 'This spot is popular',\n         'type': 'general'}]},\n      'referralId': 'e-0-4bdc3a4f3904a593cf414d9e-20',\n      'venue': {'beenHere': {'count': 0,\n        'lastCheckinExpiredAt': 0,\n        'marked': False,\n        'unconfirmedCount': 0},\n       'categories': [{'icon': {'prefix': 'https://ss3.4sqi.net/img/categories_v2/food/cafe_',\n          'suffix': '.png'},\n         'id': '4bf58dd8d48988d16d941735',\n         'name': 'Caf\u00e9',\n         'pluralName': 'Caf\u00e9s',\n         'primary': True,\n         'shortName': 'Caf\u00e9'}],\n       'contact': {},\n       'hereNow': {'count': 0, 'groups': [], 'summary': 'Nobody here'},\n       'id': '4bdc3a4f3904a593cf414d9e',\n       'location': {'address': '196 Battlefield Rd.',\n        'cc': 'GB',\n        'city': 'Glasgow',\n        'country': 'United Kingdom',\n        'distance': 782,\n        'formattedAddress': ['196 Battlefield Rd.',\n         'Glasgow',\n         'G42 9HN',\n         'United Kingdom'],\n        'labeledLatLngs': [{'label': 'display',\n          'lat': 55.82546702723883,\n          'lng': -4.264497756958008}],\n        'lat': 55.82546702723883,\n        'lng': -4.264497756958008,\n        'postalCode': 'G42 9HN'},\n       'name': 'Ludovic Cafe/Bistro',\n       'photos': {'count': 0, 'groups': []},\n       'stats': {'checkinsCount': 0,\n        'tipCount': 0,\n        'usersCount': 0,\n        'visitsCount': 0},\n       'verified': False}},\n     {'reasons': {'count': 0,\n       'items': [{'reasonName': 'globalInteractionReason',\n         'summary': 'This spot is popular',\n         'type': 'general'}]},\n      'referralId': 'e-0-4fec74393d7c9b9c78e06ac8-21',\n      'venue': {'beenHere': {'count': 0,\n        'lastCheckinExpiredAt': 0,\n        'marked': False,\n        'unconfirmedCount': 0},\n       'categories': [{'icon': {'prefix': 'https://ss3.4sqi.net/img/categories_v2/shops/bookstore_',\n          'suffix': '.png'},\n         'id': '4bf58dd8d48988d114951735',\n         'name': 'Bookstore',\n         'pluralName': 'Bookstores',\n         'primary': True,\n         'shortName': 'Bookstore'}],\n       'contact': {},\n       'hereNow': {'count': 0, 'groups': [], 'summary': 'Nobody here'},\n       'id': '4fec74393d7c9b9c78e06ac8',\n       'location': {'address': 'Glasgow Royal Infirmary',\n        'cc': 'GB',\n        'city': 'Glasgow',\n        'country': 'United Kingdom',\n        'distance': 797,\n        'formattedAddress': ['Glasgow Royal Infirmary',\n         'Glasgow',\n         'Glasgow City',\n         'G42 9TY',\n         'United Kingdom'],\n        'labeledLatLngs': [{'label': 'display',\n          'lat': 55.828772,\n          'lng': -4.263607}],\n        'lat': 55.828772,\n        'lng': -4.263607,\n        'postalCode': 'G42 9TY',\n        'state': 'Glasgow City'},\n       'name': 'WHSmith',\n       'photos': {'count': 0, 'groups': []},\n       'stats': {'checkinsCount': 0,\n        'tipCount': 0,\n        'usersCount': 0,\n        'visitsCount': 0},\n       'verified': True}},\n     {'reasons': {'count': 0,\n       'items': [{'reasonName': 'globalInteractionReason',\n         'summary': 'This spot is popular',\n         'type': 'general'}]},\n      'referralId': 'e-0-4c989e9fb6ee236ae75ca9a7-22',\n      'venue': {'beenHere': {'count': 0,\n        'lastCheckinExpiredAt': 0,\n        'marked': False,\n        'unconfirmedCount': 0},\n       'categories': [{'icon': {'prefix': 'https://ss3.4sqi.net/img/categories_v2/food/cafe_',\n          'suffix': '.png'},\n         'id': '4bf58dd8d48988d16d941735',\n         'name': 'Caf\u00e9',\n         'pluralName': 'Caf\u00e9s',\n         'primary': True,\n         'shortName': 'Caf\u00e9'}],\n       'contact': {},\n       'hereNow': {'count': 0, 'groups': [], 'summary': 'Nobody here'},\n       'id': '4c989e9fb6ee236ae75ca9a7',\n       'location': {'address': 'New Victoria Hospital',\n        'cc': 'GB',\n        'city': 'Glasgow',\n        'country': 'United Kingdom',\n        'crossStreet': 'Grange Rd',\n        'distance': 803,\n        'formattedAddress': ['New Victoria Hospital (Grange Rd)',\n         'Glasgow',\n         'Glasgow City',\n         'G42 9LF',\n         'United Kingdom'],\n        'labeledLatLngs': [{'label': 'display',\n          'lat': 55.82870321870944,\n          'lng': -4.263762933088009}],\n        'lat': 55.82870321870944,\n        'lng': -4.263762933088009,\n        'postalCode': 'G42 9LF',\n        'state': 'Glasgow City'},\n       'name': 'Aroma Cafe',\n       'photos': {'count': 0, 'groups': []},\n       'stats': {'checkinsCount': 0,\n        'tipCount': 0,\n        'usersCount': 0,\n        'visitsCount': 0},\n       'verified': False}},\n     {'reasons': {'count': 0,\n       'items': [{'reasonName': 'globalInteractionReason',\n         'summary': 'This spot is popular',\n         'type': 'general'}]},\n      'referralId': 'e-0-4de0e3501fc7a5f7032bfcbd-23',\n      'venue': {'beenHere': {'count': 0,\n        'lastCheckinExpiredAt': 0,\n        'marked': False,\n        'unconfirmedCount': 0},\n       'categories': [{'icon': {'prefix': 'https://ss3.4sqi.net/img/categories_v2/parks_outdoors/park_',\n          'suffix': '.png'},\n         'id': '4bf58dd8d48988d163941735',\n         'name': 'Park',\n         'pluralName': 'Parks',\n         'primary': True,\n         'shortName': 'Park'}],\n       'contact': {},\n       'hereNow': {'count': 0, 'groups': [], 'summary': 'Nobody here'},\n       'id': '4de0e3501fc7a5f7032bfcbd',\n       'location': {'address': 'Langside Road',\n        'cc': 'GB',\n        'city': 'Glasgow',\n        'country': 'United Kingdom',\n        'distance': 821,\n        'formattedAddress': ['Langside Road',\n         'Glasgow',\n         'Glasgow City',\n         'G42 8DA',\n         'United Kingdom'],\n        'labeledLatLngs': [{'label': 'display',\n          'lat': 55.82980590530818,\n          'lng': -4.263038635253906}],\n        'lat': 55.82980590530818,\n        'lng': -4.263038635253906,\n        'postalCode': 'G42 8DA',\n        'state': 'Glasgow City'},\n       'name': 'Queens Park Recreation Ground',\n       'photos': {'count': 0, 'groups': []},\n       'stats': {'checkinsCount': 0,\n        'tipCount': 0,\n        'usersCount': 0,\n        'visitsCount': 0},\n       'verified': False}},\n     {'reasons': {'count': 0,\n       'items': [{'reasonName': 'globalInteractionReason',\n         'summary': 'This spot is popular',\n         'type': 'general'}]},\n      'referralId': 'e-0-545e3a88498e7295962abc95-24',\n      'venue': {'beenHere': {'count': 0,\n        'lastCheckinExpiredAt': 0,\n        'marked': False,\n        'unconfirmedCount': 0},\n       'categories': [{'icon': {'prefix': 'https://ss3.4sqi.net/img/categories_v2/food/coffeeshop_',\n          'suffix': '.png'},\n         'id': '4bf58dd8d48988d1e0931735',\n         'name': 'Coffee Shop',\n         'pluralName': 'Coffee Shops',\n         'primary': True,\n         'shortName': 'Coffee Shop'}],\n       'contact': {},\n       'hereNow': {'count': 0, 'groups': [], 'summary': 'Nobody here'},\n       'id': '545e3a88498e7295962abc95',\n       'location': {'cc': 'GB',\n        'country': 'United Kingdom',\n        'distance': 874,\n        'formattedAddress': ['United Kingdom'],\n        'labeledLatLngs': [{'label': 'display',\n          'lat': 55.82688467778012,\n          'lng': -4.265851706608237}],\n        'lat': 55.82688467778012,\n        'lng': -4.265851706608237},\n       'name': 'Coffeescene',\n       'photos': {'count': 0, 'groups': []},\n       'stats': {'checkinsCount': 0,\n        'tipCount': 0,\n        'usersCount': 0,\n        'visitsCount': 0},\n       'verified': False}}],\n    'name': 'recommended',\n    'type': 'Recommended Places'}],\n  'headerFullLocation': 'Mount Florida, Glasgow',\n  'headerLocation': 'Mount Florida',\n  'headerLocationGranularity': 'neighborhood',\n  'suggestedBounds': {'ne': {'lat': 55.83480000900001,\n    'lng': -4.236007422497075},\n   'sw': {'lat': 55.81679999099999, 'lng': -4.267992577502924}},\n  'suggestedFilters': {'filters': [{'key': 'openNow', 'name': 'Open now'}],\n   'header': 'Tap to show:'},\n  'totalResults': 25}}"
                    }, 
                    "output_type": "execute_result"
                }
            ], 
            "source": "results = requests.get(url).json()\nresults"
        }, 
        {
            "source": "From Foursquare presentation, we know that all the information is in the *items* key. Before we proceed, let's borrow the **get_category_type** function from the Foursquare presentation", 
            "cell_type": "markdown", 
            "metadata": {}
        }, 
        {
            "execution_count": 39, 
            "cell_type": "code", 
            "metadata": {}, 
            "outputs": [], 
            "source": "# function that extracts the category of the venue\ndef get_category_type(row):\n    try:\n        categories_list = row['categories']\n    except:\n        categories_list = row['venue.categories']\n        \n    if len(categories_list) == 0:\n        return None\n    else:\n        return categories_list[0]['name'].encode('ascii', errors='ignore')"
        }, 
        {
            "source": "Now we are ready to clean the json and structure it into a *pandas* dataframe", 
            "cell_type": "markdown", 
            "metadata": {}
        }, 
        {
            "execution_count": 42, 
            "cell_type": "code", 
            "metadata": {
                "scrolled": true
            }, 
            "outputs": [
                {
                    "execution_count": 42, 
                    "metadata": {}, 
                    "data": {
                        "text/html": "<div>\n<style scoped>\n    .dataframe tbody tr th:only-of-type {\n        vertical-align: middle;\n    }\n\n    .dataframe tbody tr th {\n        vertical-align: top;\n    }\n\n    .dataframe thead th {\n        text-align: right;\n    }\n</style>\n<table border=\"1\" class=\"dataframe\">\n  <thead>\n    <tr style=\"text-align: right;\">\n      <th></th>\n      <th>name</th>\n      <th>categories</th>\n      <th>lat</th>\n      <th>lng</th>\n    </tr>\n  </thead>\n  <tbody>\n    <tr>\n      <th>0</th>\n      <td>Hampden Park</td>\n      <td>b'Soccer Stadium'</td>\n      <td>55.825563</td>\n      <td>-4.251821</td>\n    </tr>\n    <tr>\n      <th>1</th>\n      <td>Sapori D'italia</td>\n      <td>b'Italian Restaurant'</td>\n      <td>55.826050</td>\n      <td>-4.257485</td>\n    </tr>\n    <tr>\n      <th>2</th>\n      <td>Hooked Fish &amp; Chips</td>\n      <td>b'Fish &amp; Chips Shop'</td>\n      <td>55.827126</td>\n      <td>-4.259064</td>\n    </tr>\n    <tr>\n      <th>3</th>\n      <td>Tinto Tapas Bar</td>\n      <td>b'Tapas Restaurant'</td>\n      <td>55.826488</td>\n      <td>-4.265234</td>\n    </tr>\n    <tr>\n      <th>4</th>\n      <td>The Scottish Football Museum</td>\n      <td>b'History Museum'</td>\n      <td>55.825231</td>\n      <td>-4.252044</td>\n    </tr>\n  </tbody>\n</table>\n</div>", 
                        "text/plain": "                           name             categories        lat       lng\n0                  Hampden Park      b'Soccer Stadium'  55.825563 -4.251821\n1               Sapori D'italia  b'Italian Restaurant'  55.826050 -4.257485\n2           Hooked Fish & Chips   b'Fish & Chips Shop'  55.827126 -4.259064\n3               Tinto Tapas Bar    b'Tapas Restaurant'  55.826488 -4.265234\n4  The Scottish Football Museum      b'History Museum'  55.825231 -4.252044"
                    }, 
                    "output_type": "execute_result"
                }
            ], 
            "source": "venues = results['response']['groups'][0]['items']\n    \nnearby_venues = json_normalize(venues) # flatten JSON\n\n# filter columns\nfiltered_columns = ['venue.name', 'venue.categories', 'venue.location.lat', 'venue.location.lng']\nnearby_venues =nearby_venues.loc[:, filtered_columns]\n\n# filter the category for each row\nnearby_venues['venue.categories'] = nearby_venues.apply(get_category_type, axis=1)\n\n# clean columns\nnearby_venues.columns = [col.split(\".\")[-1] for col in nearby_venues.columns]\n\nnearby_venues.head()"
        }, 
        {
            "source": "And how many venues were returned by Foursquare?", 
            "cell_type": "markdown", 
            "metadata": {}
        }, 
        {
            "execution_count": 44, 
            "cell_type": "code", 
            "metadata": {}, 
            "outputs": [
                {
                    "output_type": "stream", 
                    "name": "stdout", 
                    "text": "25 venues were returned by Foursquare\n"
                }
            ], 
            "source": "print ('{} venues were returned by Foursquare'.format(nearby_venues.shape[0]))"
        }, 
        {
            "source": "<a id='item2'></a>", 
            "cell_type": "markdown", 
            "metadata": {}
        }, 
        {
            "source": "## 2. Explore Neighborhoods around Hampden and Murrayfield", 
            "cell_type": "markdown", 
            "metadata": {}
        }, 
        {
            "source": "#### Let's create a function to repeat the same process to all the neighborhoods of Hampden and Murrayfield", 
            "cell_type": "markdown", 
            "metadata": {}
        }, 
        {
            "execution_count": 45, 
            "cell_type": "code", 
            "metadata": {}, 
            "outputs": [], 
            "source": "def getNearbyVenues(names, latitudes, longitudes, radius=500):\n    \n    venues_list=[]\n    for name, lat, lng in zip(names, latitudes, longitudes):\n        print(name)\n            \n        # create the API request URL\n        url = 'https://api.foursquare.com/v2/venues/explore?&client_id={}&client_secret={}&v={}&ll={},{}&radius={}&limit={}'.format(\n            CLIENT_ID, \n            CLIENT_SECRET, \n            VERSION, \n            lat, \n            lng, \n            radius, \n            LIMIT)\n            \n        # make the GET request\n        results = requests.get(url).json()[\"response\"]['groups']\n        \n        # return only relevant information for each nearby venue\n        venues_list.append([(\n            name, \n            lat, \n            lng, \n            v['venue']['name'], \n            v['venue']['location']['lat'], \n            v['venue']['location']['lng'],  \n            v['venue']['categories'][0]['name']) for v in results[0]['items']])\n\n    nearby_venues = pd.DataFrame([item for venue_list in venues_list for item in venue_list])\n    nearby_venues.columns = ['neighborhood', \n                  'neighborhood latitude', \n                  'neighborhood longitude', \n                  'venue', \n                  'venue latitude', \n                  'venue longitude', \n                  'venue category']\n    \n    return(nearby_venues)"
        }, 
        {
            "source": "#### Now let's run the function on each neighborhood", 
            "cell_type": "markdown", 
            "metadata": {}
        }, 
        {
            "execution_count": 46, 
            "cell_type": "code", 
            "metadata": {}, 
            "outputs": [
                {
                    "output_type": "stream", 
                    "name": "stdout", 
                    "text": "Mount Florida\nRoseburn\n"
                }
            ], 
            "source": "scot_venues = getNearbyVenues(names=df_data_1.neighborhood,\n                              latitudes=df_data_1.latitude,\n                              longitudes=df_data_1.longitude,\n                              radius=1000)"
        }, 
        {
            "source": "#### Let's check the size of the resulting dataframe", 
            "cell_type": "markdown", 
            "metadata": {}
        }, 
        {
            "execution_count": 48, 
            "cell_type": "code", 
            "metadata": {
                "scrolled": false
            }, 
            "outputs": [
                {
                    "output_type": "stream", 
                    "name": "stdout", 
                    "text": "(67, 7)\n"
                }, 
                {
                    "execution_count": 48, 
                    "metadata": {}, 
                    "data": {
                        "text/html": "<div>\n<style scoped>\n    .dataframe tbody tr th:only-of-type {\n        vertical-align: middle;\n    }\n\n    .dataframe tbody tr th {\n        vertical-align: top;\n    }\n\n    .dataframe thead th {\n        text-align: right;\n    }\n</style>\n<table border=\"1\" class=\"dataframe\">\n  <thead>\n    <tr style=\"text-align: right;\">\n      <th></th>\n      <th>neighborhood</th>\n      <th>neighborhood latitude</th>\n      <th>neighborhood longitude</th>\n      <th>venue</th>\n      <th>venue latitude</th>\n      <th>venue longitude</th>\n      <th>venue category</th>\n    </tr>\n  </thead>\n  <tbody>\n    <tr>\n      <th>0</th>\n      <td>Mount Florida</td>\n      <td>55.8258</td>\n      <td>-4.252</td>\n      <td>Hampden Park</td>\n      <td>55.825563</td>\n      <td>-4.251821</td>\n      <td>Soccer Stadium</td>\n    </tr>\n    <tr>\n      <th>1</th>\n      <td>Mount Florida</td>\n      <td>55.8258</td>\n      <td>-4.252</td>\n      <td>Sapori D'italia</td>\n      <td>55.826050</td>\n      <td>-4.257485</td>\n      <td>Italian Restaurant</td>\n    </tr>\n    <tr>\n      <th>2</th>\n      <td>Mount Florida</td>\n      <td>55.8258</td>\n      <td>-4.252</td>\n      <td>Hooked Fish &amp; Chips</td>\n      <td>55.827126</td>\n      <td>-4.259064</td>\n      <td>Fish &amp; Chips Shop</td>\n    </tr>\n    <tr>\n      <th>3</th>\n      <td>Mount Florida</td>\n      <td>55.8258</td>\n      <td>-4.252</td>\n      <td>Tinto Tapas Bar</td>\n      <td>55.826488</td>\n      <td>-4.265234</td>\n      <td>Tapas Restaurant</td>\n    </tr>\n    <tr>\n      <th>4</th>\n      <td>Mount Florida</td>\n      <td>55.8258</td>\n      <td>-4.252</td>\n      <td>The Scottish Football Museum</td>\n      <td>55.825231</td>\n      <td>-4.252044</td>\n      <td>History Museum</td>\n    </tr>\n  </tbody>\n</table>\n</div>", 
                        "text/plain": "    neighborhood  neighborhood latitude  neighborhood longitude  \\\n0  Mount Florida                55.8258                  -4.252   \n1  Mount Florida                55.8258                  -4.252   \n2  Mount Florida                55.8258                  -4.252   \n3  Mount Florida                55.8258                  -4.252   \n4  Mount Florida                55.8258                  -4.252   \n\n                          venue  venue latitude  venue longitude  \\\n0                  Hampden Park       55.825563        -4.251821   \n1               Sapori D'italia       55.826050        -4.257485   \n2           Hooked Fish & Chips       55.827126        -4.259064   \n3               Tinto Tapas Bar       55.826488        -4.265234   \n4  The Scottish Football Museum       55.825231        -4.252044   \n\n       venue category  \n0      Soccer Stadium  \n1  Italian Restaurant  \n2   Fish & Chips Shop  \n3    Tapas Restaurant  \n4      History Museum  "
                    }, 
                    "output_type": "execute_result"
                }
            ], 
            "source": "print (scot_venues.shape)\nscot_venues.head()"
        }, 
        {
            "source": "#### Let's check how many venues were returned for each neighborhood", 
            "cell_type": "markdown", 
            "metadata": {}
        }, 
        {
            "execution_count": 49, 
            "cell_type": "code", 
            "metadata": {}, 
            "outputs": [
                {
                    "execution_count": 49, 
                    "metadata": {}, 
                    "data": {
                        "text/html": "<div>\n<style scoped>\n    .dataframe tbody tr th:only-of-type {\n        vertical-align: middle;\n    }\n\n    .dataframe tbody tr th {\n        vertical-align: top;\n    }\n\n    .dataframe thead th {\n        text-align: right;\n    }\n</style>\n<table border=\"1\" class=\"dataframe\">\n  <thead>\n    <tr style=\"text-align: right;\">\n      <th></th>\n      <th>neighborhood latitude</th>\n      <th>neighborhood longitude</th>\n      <th>venue</th>\n      <th>venue latitude</th>\n      <th>venue longitude</th>\n      <th>venue category</th>\n    </tr>\n    <tr>\n      <th>neighborhood</th>\n      <th></th>\n      <th></th>\n      <th></th>\n      <th></th>\n      <th></th>\n      <th></th>\n    </tr>\n  </thead>\n  <tbody>\n    <tr>\n      <th>Mount Florida</th>\n      <td>25</td>\n      <td>25</td>\n      <td>25</td>\n      <td>25</td>\n      <td>25</td>\n      <td>25</td>\n    </tr>\n    <tr>\n      <th>Roseburn</th>\n      <td>42</td>\n      <td>42</td>\n      <td>42</td>\n      <td>42</td>\n      <td>42</td>\n      <td>42</td>\n    </tr>\n  </tbody>\n</table>\n</div>", 
                        "text/plain": "               neighborhood latitude  neighborhood longitude  venue  \\\nneighborhood                                                          \nMount Florida                     25                      25     25   \nRoseburn                          42                      42     42   \n\n               venue latitude  venue longitude  venue category  \nneighborhood                                                    \nMount Florida              25               25              25  \nRoseburn                   42               42              42  "
                    }, 
                    "output_type": "execute_result"
                }
            ], 
            "source": "scot_venues.groupby('neighborhood').count()"
        }, 
        {
            "source": "#### Let's note how many unique categories can be curated from all the returned venues", 
            "cell_type": "markdown", 
            "metadata": {}
        }, 
        {
            "execution_count": 51, 
            "cell_type": "code", 
            "metadata": {}, 
            "outputs": [
                {
                    "output_type": "stream", 
                    "name": "stdout", 
                    "text": "41 uniques categories\n"
                }
            ], 
            "source": "print ('{} uniques categories'.format(len(scot_venues['venue category'].unique())))"
        }, 
        {
            "source": "<a id='item3'></a>", 
            "cell_type": "markdown", 
            "metadata": {}
        }, 
        {
            "source": "## 3. Analyze Each Neighborhood", 
            "cell_type": "markdown", 
            "metadata": {}
        }, 
        {
            "execution_count": 52, 
            "cell_type": "code", 
            "metadata": {}, 
            "outputs": [
                {
                    "execution_count": 52, 
                    "metadata": {}, 
                    "data": {
                        "text/html": "<div>\n<style scoped>\n    .dataframe tbody tr th:only-of-type {\n        vertical-align: middle;\n    }\n\n    .dataframe tbody tr th {\n        vertical-align: top;\n    }\n\n    .dataframe thead th {\n        text-align: right;\n    }\n</style>\n<table border=\"1\" class=\"dataframe\">\n  <thead>\n    <tr style=\"text-align: right;\">\n      <th></th>\n      <th>neighborhood</th>\n      <th>Bakery</th>\n      <th>Bar</th>\n      <th>Bookstore</th>\n      <th>Bowling Alley</th>\n      <th>Bus Stop</th>\n      <th>Caf\u00e9</th>\n      <th>Chinese Restaurant</th>\n      <th>Clothing Store</th>\n      <th>Coffee Shop</th>\n      <th>Convenience Store</th>\n      <th>Curling Ice</th>\n      <th>Farm</th>\n      <th>Fast Food Restaurant</th>\n      <th>Fish &amp; Chips Shop</th>\n      <th>Furniture / Home Store</th>\n      <th>Gas Station</th>\n      <th>Gastropub</th>\n      <th>Grocery Store</th>\n      <th>Gym</th>\n      <th>Hardware Store</th>\n      <th>History Museum</th>\n      <th>Hotel</th>\n      <th>Indian Restaurant</th>\n      <th>Italian Restaurant</th>\n      <th>Park</th>\n      <th>Pet Store</th>\n      <th>Pharmacy</th>\n      <th>Pizza Place</th>\n      <th>Playground</th>\n      <th>Pub</th>\n      <th>Rugby Stadium</th>\n      <th>Sandwich Place</th>\n      <th>Skate Park</th>\n      <th>Skating Rink</th>\n      <th>Soccer Field</th>\n      <th>Soccer Stadium</th>\n      <th>Sports Bar</th>\n      <th>Supermarket</th>\n      <th>Tapas Restaurant</th>\n      <th>Trail</th>\n      <th>Tram Station</th>\n    </tr>\n  </thead>\n  <tbody>\n    <tr>\n      <th>0</th>\n      <td>Mount Florida</td>\n      <td>0</td>\n      <td>0</td>\n      <td>0</td>\n      <td>0</td>\n      <td>0</td>\n      <td>0</td>\n      <td>0</td>\n      <td>0</td>\n      <td>0</td>\n      <td>0</td>\n      <td>0</td>\n      <td>0</td>\n      <td>0</td>\n      <td>0</td>\n      <td>0</td>\n      <td>0</td>\n      <td>0</td>\n      <td>0</td>\n      <td>0</td>\n      <td>0</td>\n      <td>0</td>\n      <td>0</td>\n      <td>0</td>\n      <td>0</td>\n      <td>0</td>\n      <td>0</td>\n      <td>0</td>\n      <td>0</td>\n      <td>0</td>\n      <td>0</td>\n      <td>0</td>\n      <td>0</td>\n      <td>0</td>\n      <td>0</td>\n      <td>0</td>\n      <td>1</td>\n      <td>0</td>\n      <td>0</td>\n      <td>0</td>\n      <td>0</td>\n      <td>0</td>\n    </tr>\n    <tr>\n      <th>1</th>\n      <td>Mount Florida</td>\n      <td>0</td>\n      <td>0</td>\n      <td>0</td>\n      <td>0</td>\n      <td>0</td>\n      <td>0</td>\n      <td>0</td>\n      <td>0</td>\n      <td>0</td>\n      <td>0</td>\n      <td>0</td>\n      <td>0</td>\n      <td>0</td>\n      <td>0</td>\n      <td>0</td>\n      <td>0</td>\n      <td>0</td>\n      <td>0</td>\n      <td>0</td>\n      <td>0</td>\n      <td>0</td>\n      <td>0</td>\n      <td>0</td>\n      <td>1</td>\n      <td>0</td>\n      <td>0</td>\n      <td>0</td>\n      <td>0</td>\n      <td>0</td>\n      <td>0</td>\n      <td>0</td>\n      <td>0</td>\n      <td>0</td>\n      <td>0</td>\n      <td>0</td>\n      <td>0</td>\n      <td>0</td>\n      <td>0</td>\n      <td>0</td>\n      <td>0</td>\n      <td>0</td>\n    </tr>\n    <tr>\n      <th>2</th>\n      <td>Mount Florida</td>\n      <td>0</td>\n      <td>0</td>\n      <td>0</td>\n      <td>0</td>\n      <td>0</td>\n      <td>0</td>\n      <td>0</td>\n      <td>0</td>\n      <td>0</td>\n      <td>0</td>\n      <td>0</td>\n      <td>0</td>\n      <td>0</td>\n      <td>1</td>\n      <td>0</td>\n      <td>0</td>\n      <td>0</td>\n      <td>0</td>\n      <td>0</td>\n      <td>0</td>\n      <td>0</td>\n      <td>0</td>\n      <td>0</td>\n      <td>0</td>\n      <td>0</td>\n      <td>0</td>\n      <td>0</td>\n      <td>0</td>\n      <td>0</td>\n      <td>0</td>\n      <td>0</td>\n      <td>0</td>\n      <td>0</td>\n      <td>0</td>\n      <td>0</td>\n      <td>0</td>\n      <td>0</td>\n      <td>0</td>\n      <td>0</td>\n      <td>0</td>\n      <td>0</td>\n    </tr>\n    <tr>\n      <th>3</th>\n      <td>Mount Florida</td>\n      <td>0</td>\n      <td>0</td>\n      <td>0</td>\n      <td>0</td>\n      <td>0</td>\n      <td>0</td>\n      <td>0</td>\n      <td>0</td>\n      <td>0</td>\n      <td>0</td>\n      <td>0</td>\n      <td>0</td>\n      <td>0</td>\n      <td>0</td>\n      <td>0</td>\n      <td>0</td>\n      <td>0</td>\n      <td>0</td>\n      <td>0</td>\n      <td>0</td>\n      <td>0</td>\n      <td>0</td>\n      <td>0</td>\n      <td>0</td>\n      <td>0</td>\n      <td>0</td>\n      <td>0</td>\n      <td>0</td>\n      <td>0</td>\n      <td>0</td>\n      <td>0</td>\n      <td>0</td>\n      <td>0</td>\n      <td>0</td>\n      <td>0</td>\n      <td>0</td>\n      <td>0</td>\n      <td>0</td>\n      <td>1</td>\n      <td>0</td>\n      <td>0</td>\n    </tr>\n    <tr>\n      <th>4</th>\n      <td>Mount Florida</td>\n      <td>0</td>\n      <td>0</td>\n      <td>0</td>\n      <td>0</td>\n      <td>0</td>\n      <td>0</td>\n      <td>0</td>\n      <td>0</td>\n      <td>0</td>\n      <td>0</td>\n      <td>0</td>\n      <td>0</td>\n      <td>0</td>\n      <td>0</td>\n      <td>0</td>\n      <td>0</td>\n      <td>0</td>\n      <td>0</td>\n      <td>0</td>\n      <td>0</td>\n      <td>1</td>\n      <td>0</td>\n      <td>0</td>\n      <td>0</td>\n      <td>0</td>\n      <td>0</td>\n      <td>0</td>\n      <td>0</td>\n      <td>0</td>\n      <td>0</td>\n      <td>0</td>\n      <td>0</td>\n      <td>0</td>\n      <td>0</td>\n      <td>0</td>\n      <td>0</td>\n      <td>0</td>\n      <td>0</td>\n      <td>0</td>\n      <td>0</td>\n      <td>0</td>\n    </tr>\n  </tbody>\n</table>\n</div>", 
                        "text/plain": "    neighborhood  Bakery  Bar  Bookstore  Bowling Alley  Bus Stop  Caf\u00e9  \\\n0  Mount Florida       0    0          0              0         0     0   \n1  Mount Florida       0    0          0              0         0     0   \n2  Mount Florida       0    0          0              0         0     0   \n3  Mount Florida       0    0          0              0         0     0   \n4  Mount Florida       0    0          0              0         0     0   \n\n   Chinese Restaurant  Clothing Store  Coffee Shop  Convenience Store  \\\n0                   0               0            0                  0   \n1                   0               0            0                  0   \n2                   0               0            0                  0   \n3                   0               0            0                  0   \n4                   0               0            0                  0   \n\n   Curling Ice  Farm  Fast Food Restaurant  Fish & Chips Shop  \\\n0            0     0                     0                  0   \n1            0     0                     0                  0   \n2            0     0                     0                  1   \n3            0     0                     0                  0   \n4            0     0                     0                  0   \n\n   Furniture / Home Store  Gas Station  Gastropub  Grocery Store  Gym  \\\n0                       0            0          0              0    0   \n1                       0            0          0              0    0   \n2                       0            0          0              0    0   \n3                       0            0          0              0    0   \n4                       0            0          0              0    0   \n\n   Hardware Store  History Museum  Hotel  Indian Restaurant  \\\n0               0               0      0                  0   \n1               0               0      0                  0   \n2               0               0      0                  0   \n3               0               0      0                  0   \n4               0               1      0                  0   \n\n   Italian Restaurant  Park  Pet Store  Pharmacy  Pizza Place  Playground  \\\n0                   0     0          0         0            0           0   \n1                   1     0          0         0            0           0   \n2                   0     0          0         0            0           0   \n3                   0     0          0         0            0           0   \n4                   0     0          0         0            0           0   \n\n   Pub  Rugby Stadium  Sandwich Place  Skate Park  Skating Rink  Soccer Field  \\\n0    0              0               0           0             0             0   \n1    0              0               0           0             0             0   \n2    0              0               0           0             0             0   \n3    0              0               0           0             0             0   \n4    0              0               0           0             0             0   \n\n   Soccer Stadium  Sports Bar  Supermarket  Tapas Restaurant  Trail  \\\n0               1           0            0                 0      0   \n1               0           0            0                 0      0   \n2               0           0            0                 0      0   \n3               0           0            0                 1      0   \n4               0           0            0                 0      0   \n\n   Tram Station  \n0             0  \n1             0  \n2             0  \n3             0  \n4             0  "
                    }, 
                    "output_type": "execute_result"
                }
            ], 
            "source": "# one hot encoding\nscot_onehot = pd.get_dummies(scot_venues[['venue category']], prefix=\"\", prefix_sep=\"\")\n\n# add neighborhood column back to dataframe\nscot_onehot['neighborhood'] = scot_venues['neighborhood'] \n\n# move neighborhood column to the first column\nfixed_columns = [scot_onehot.columns[-1]] + list(scot_onehot.columns[:-1])\nscot_onehot = scot_onehot[fixed_columns]\n\nscot_onehot.head()"
        }, 
        {
            "source": "And let's examine the new dataframe size", 
            "cell_type": "markdown", 
            "metadata": {}
        }, 
        {
            "execution_count": 54, 
            "cell_type": "code", 
            "metadata": {}, 
            "outputs": [
                {
                    "execution_count": 54, 
                    "metadata": {}, 
                    "data": {
                        "text/plain": "(67, 42)"
                    }, 
                    "output_type": "execute_result"
                }
            ], 
            "source": "scot_onehot.shape"
        }, 
        {
            "source": "#### Next, let's group rows by neighborhood", 
            "cell_type": "markdown", 
            "metadata": {}
        }, 
        {
            "execution_count": 55, 
            "cell_type": "code", 
            "metadata": {
                "scrolled": true
            }, 
            "outputs": [
                {
                    "execution_count": 55, 
                    "metadata": {}, 
                    "data": {
                        "text/html": "<div>\n<style scoped>\n    .dataframe tbody tr th:only-of-type {\n        vertical-align: middle;\n    }\n\n    .dataframe tbody tr th {\n        vertical-align: top;\n    }\n\n    .dataframe thead th {\n        text-align: right;\n    }\n</style>\n<table border=\"1\" class=\"dataframe\">\n  <thead>\n    <tr style=\"text-align: right;\">\n      <th></th>\n      <th>neighborhood</th>\n      <th>Bakery</th>\n      <th>Bar</th>\n      <th>Bookstore</th>\n      <th>Bowling Alley</th>\n      <th>Bus Stop</th>\n      <th>Caf\u00e9</th>\n      <th>Chinese Restaurant</th>\n      <th>Clothing Store</th>\n      <th>Coffee Shop</th>\n      <th>Convenience Store</th>\n      <th>Curling Ice</th>\n      <th>Farm</th>\n      <th>Fast Food Restaurant</th>\n      <th>Fish &amp; Chips Shop</th>\n      <th>Furniture / Home Store</th>\n      <th>Gas Station</th>\n      <th>Gastropub</th>\n      <th>Grocery Store</th>\n      <th>Gym</th>\n      <th>Hardware Store</th>\n      <th>History Museum</th>\n      <th>Hotel</th>\n      <th>Indian Restaurant</th>\n      <th>Italian Restaurant</th>\n      <th>Park</th>\n      <th>Pet Store</th>\n      <th>Pharmacy</th>\n      <th>Pizza Place</th>\n      <th>Playground</th>\n      <th>Pub</th>\n      <th>Rugby Stadium</th>\n      <th>Sandwich Place</th>\n      <th>Skate Park</th>\n      <th>Skating Rink</th>\n      <th>Soccer Field</th>\n      <th>Soccer Stadium</th>\n      <th>Sports Bar</th>\n      <th>Supermarket</th>\n      <th>Tapas Restaurant</th>\n      <th>Trail</th>\n      <th>Tram Station</th>\n    </tr>\n  </thead>\n  <tbody>\n    <tr>\n      <th>0</th>\n      <td>Mount Florida</td>\n      <td>0.04000</td>\n      <td>0.04000</td>\n      <td>0.04</td>\n      <td>0.00000</td>\n      <td>0.00000</td>\n      <td>0.08000</td>\n      <td>0.00000</td>\n      <td>0.00000</td>\n      <td>0.04000</td>\n      <td>0.00000</td>\n      <td>0.00000</td>\n      <td>0.00000</td>\n      <td>0.00000</td>\n      <td>0.04000</td>\n      <td>0.00000</td>\n      <td>0.00000</td>\n      <td>0.00000</td>\n      <td>0.080000</td>\n      <td>0.04000</td>\n      <td>0.00000</td>\n      <td>0.04</td>\n      <td>0.040000</td>\n      <td>0.08</td>\n      <td>0.08</td>\n      <td>0.08000</td>\n      <td>0.00000</td>\n      <td>0.000000</td>\n      <td>0.04</td>\n      <td>0.00000</td>\n      <td>0.04000</td>\n      <td>0.00000</td>\n      <td>0.04000</td>\n      <td>0.00000</td>\n      <td>0.00000</td>\n      <td>0.04000</td>\n      <td>0.04000</td>\n      <td>0.000000</td>\n      <td>0.04000</td>\n      <td>0.04</td>\n      <td>0.00000</td>\n      <td>0.000000</td>\n    </tr>\n    <tr>\n      <th>1</th>\n      <td>Roseburn</td>\n      <td>0.02381</td>\n      <td>0.02381</td>\n      <td>0.00</td>\n      <td>0.02381</td>\n      <td>0.02381</td>\n      <td>0.02381</td>\n      <td>0.02381</td>\n      <td>0.02381</td>\n      <td>0.02381</td>\n      <td>0.02381</td>\n      <td>0.02381</td>\n      <td>0.02381</td>\n      <td>0.02381</td>\n      <td>0.02381</td>\n      <td>0.02381</td>\n      <td>0.02381</td>\n      <td>0.02381</td>\n      <td>0.047619</td>\n      <td>0.02381</td>\n      <td>0.02381</td>\n      <td>0.00</td>\n      <td>0.095238</td>\n      <td>0.00</td>\n      <td>0.00</td>\n      <td>0.02381</td>\n      <td>0.02381</td>\n      <td>0.047619</td>\n      <td>0.00</td>\n      <td>0.02381</td>\n      <td>0.02381</td>\n      <td>0.02381</td>\n      <td>0.02381</td>\n      <td>0.02381</td>\n      <td>0.02381</td>\n      <td>0.02381</td>\n      <td>0.02381</td>\n      <td>0.047619</td>\n      <td>0.02381</td>\n      <td>0.00</td>\n      <td>0.02381</td>\n      <td>0.047619</td>\n    </tr>\n  </tbody>\n</table>\n</div>", 
                        "text/plain": "    neighborhood   Bakery      Bar  Bookstore  Bowling Alley  Bus Stop  \\\n0  Mount Florida  0.04000  0.04000       0.04        0.00000   0.00000   \n1       Roseburn  0.02381  0.02381       0.00        0.02381   0.02381   \n\n      Caf\u00e9  Chinese Restaurant  Clothing Store  Coffee Shop  \\\n0  0.08000             0.00000         0.00000      0.04000   \n1  0.02381             0.02381         0.02381      0.02381   \n\n   Convenience Store  Curling Ice     Farm  Fast Food Restaurant  \\\n0            0.00000      0.00000  0.00000               0.00000   \n1            0.02381      0.02381  0.02381               0.02381   \n\n   Fish & Chips Shop  Furniture / Home Store  Gas Station  Gastropub  \\\n0            0.04000                 0.00000      0.00000    0.00000   \n1            0.02381                 0.02381      0.02381    0.02381   \n\n   Grocery Store      Gym  Hardware Store  History Museum     Hotel  \\\n0       0.080000  0.04000         0.00000            0.04  0.040000   \n1       0.047619  0.02381         0.02381            0.00  0.095238   \n\n   Indian Restaurant  Italian Restaurant     Park  Pet Store  Pharmacy  \\\n0               0.08                0.08  0.08000    0.00000  0.000000   \n1               0.00                0.00  0.02381    0.02381  0.047619   \n\n   Pizza Place  Playground      Pub  Rugby Stadium  Sandwich Place  \\\n0         0.04     0.00000  0.04000        0.00000         0.04000   \n1         0.00     0.02381  0.02381        0.02381         0.02381   \n\n   Skate Park  Skating Rink  Soccer Field  Soccer Stadium  Sports Bar  \\\n0     0.00000       0.00000       0.04000         0.04000    0.000000   \n1     0.02381       0.02381       0.02381         0.02381    0.047619   \n\n   Supermarket  Tapas Restaurant    Trail  Tram Station  \n0      0.04000              0.04  0.00000      0.000000  \n1      0.02381              0.00  0.02381      0.047619  "
                    }, 
                    "output_type": "execute_result"
                }
            ], 
            "source": "scot_grouped = scot_onehot.groupby('neighborhood').mean().reset_index()\nscot_grouped"
        }, 
        {
            "source": "#### Let's confirm the new size", 
            "cell_type": "markdown", 
            "metadata": {}
        }, 
        {
            "execution_count": 56, 
            "cell_type": "code", 
            "metadata": {}, 
            "outputs": [
                {
                    "execution_count": 56, 
                    "metadata": {}, 
                    "data": {
                        "text/plain": "(2, 42)"
                    }, 
                    "output_type": "execute_result"
                }
            ], 
            "source": "scot_grouped.shape"
        }, 
        {
            "source": "#### Let's print each neighborhood along with the top 5 most common venues", 
            "cell_type": "markdown", 
            "metadata": {}
        }, 
        {
            "execution_count": 58, 
            "cell_type": "code", 
            "metadata": {
                "scrolled": true
            }, 
            "outputs": [
                {
                    "output_type": "stream", 
                    "name": "stdout", 
                    "text": "----Mount Florida----\n                venue  freq\n0       Grocery Store  0.08\n1                Caf\u00e9  0.08\n2                Park  0.08\n3  Italian Restaurant  0.08\n4   Indian Restaurant  0.08\n\n\n----Roseburn----\n           venue  freq\n0          Hotel  0.10\n1   Tram Station  0.05\n2  Grocery Store  0.05\n3     Sports Bar  0.05\n4       Pharmacy  0.05\n\n\n"
                }
            ], 
            "source": "num_top_venues = 5\n\nfor hood in scot_grouped['neighborhood']:\n    print(\"----\"+hood+\"----\")\n    temp = scot_grouped.loc[scot_grouped['neighborhood'] == hood].T.reset_index()\n    temp.columns = ['venue','freq']\n    temp = temp.loc[1:]\n    temp['freq'] = temp['freq'].astype(float)\n    temp = temp.round({'freq': 2})\n    print(temp.sort_values('freq', ascending=False).reset_index(drop=True).head(num_top_venues))\n    print('\\n')"
        }, 
        {
            "source": "#### Let's put that into a *pandas* dataframe", 
            "cell_type": "markdown", 
            "metadata": {}
        }, 
        {
            "source": "First, let's write a function to sort the venues in descending order", 
            "cell_type": "markdown", 
            "metadata": {}
        }, 
        {
            "execution_count": 59, 
            "cell_type": "code", 
            "metadata": {}, 
            "outputs": [], 
            "source": "def return_most_common_venues(row, num_top_venues):\n    row_categories = row.iloc[1:]\n    row_categories_sorted = row_categories.sort_values(ascending=False)\n    \n    return row_categories_sorted.index.values[0:num_top_venues]"
        }, 
        {
            "source": "Now let's create the new dataframe and display the top 10 venues for each neighborhood", 
            "cell_type": "markdown", 
            "metadata": {}
        }, 
        {
            "execution_count": 60, 
            "cell_type": "code", 
            "metadata": {
                "scrolled": false
            }, 
            "outputs": [
                {
                    "execution_count": 60, 
                    "metadata": {}, 
                    "data": {
                        "text/html": "<div>\n<style scoped>\n    .dataframe tbody tr th:only-of-type {\n        vertical-align: middle;\n    }\n\n    .dataframe tbody tr th {\n        vertical-align: top;\n    }\n\n    .dataframe thead th {\n        text-align: right;\n    }\n</style>\n<table border=\"1\" class=\"dataframe\">\n  <thead>\n    <tr style=\"text-align: right;\">\n      <th></th>\n      <th>neighborhood</th>\n      <th>1st Most Common Venue</th>\n      <th>2nd Most Common Venue</th>\n      <th>3rd Most Common Venue</th>\n      <th>4th Most Common Venue</th>\n      <th>5th Most Common Venue</th>\n      <th>6th Most Common Venue</th>\n      <th>7th Most Common Venue</th>\n      <th>8th Most Common Venue</th>\n      <th>9th Most Common Venue</th>\n      <th>10th Most Common Venue</th>\n    </tr>\n  </thead>\n  <tbody>\n    <tr>\n      <th>0</th>\n      <td>Mount Florida</td>\n      <td>Caf\u00e9</td>\n      <td>Grocery Store</td>\n      <td>Indian Restaurant</td>\n      <td>Italian Restaurant</td>\n      <td>Park</td>\n      <td>History Museum</td>\n      <td>Pizza Place</td>\n      <td>Bar</td>\n      <td>Bookstore</td>\n      <td>Coffee Shop</td>\n    </tr>\n    <tr>\n      <th>1</th>\n      <td>Roseburn</td>\n      <td>Hotel</td>\n      <td>Tram Station</td>\n      <td>Sports Bar</td>\n      <td>Pharmacy</td>\n      <td>Grocery Store</td>\n      <td>Bus Stop</td>\n      <td>Caf\u00e9</td>\n      <td>Chinese Restaurant</td>\n      <td>Clothing Store</td>\n      <td>Coffee Shop</td>\n    </tr>\n  </tbody>\n</table>\n</div>", 
                        "text/plain": "    neighborhood 1st Most Common Venue 2nd Most Common Venue  \\\n0  Mount Florida                  Caf\u00e9         Grocery Store   \n1       Roseburn                 Hotel          Tram Station   \n\n  3rd Most Common Venue 4th Most Common Venue 5th Most Common Venue  \\\n0     Indian Restaurant    Italian Restaurant                  Park   \n1            Sports Bar              Pharmacy         Grocery Store   \n\n  6th Most Common Venue 7th Most Common Venue 8th Most Common Venue  \\\n0        History Museum           Pizza Place                   Bar   \n1              Bus Stop                  Caf\u00e9    Chinese Restaurant   \n\n  9th Most Common Venue 10th Most Common Venue  \n0             Bookstore            Coffee Shop  \n1        Clothing Store            Coffee Shop  "
                    }, 
                    "output_type": "execute_result"
                }
            ], 
            "source": "num_top_venues = 10\n\nindicators = ['st', 'nd', 'rd']\n\n# create columns according to number of top venues\ncolumns = ['neighborhood']\nfor ind in np.arange(num_top_venues):\n    try:\n        columns.append('{}{} Most Common Venue'.format(ind+1, indicators[ind]))\n    except:\n        columns.append('{}th Most Common Venue'.format(ind+1))\n\n# create a new dataframe\nneighborhoods_venues_sorted = pd.DataFrame(columns=columns)\nneighborhoods_venues_sorted['neighborhood'] = scot_grouped['neighborhood']\n\nfor ind in np.arange(scot_grouped.shape[0]):\n    neighborhoods_venues_sorted.iloc[ind, 1:] = return_most_common_venues(scot_grouped.iloc[ind, :], num_top_venues)\n\nneighborhoods_venues_sorted"
        }, 
        {
            "source": "<a id='item4'></a>", 
            "cell_type": "markdown", 
            "metadata": {}
        }, 
        {
            "source": "## 4. Cluster Neighborhoods", 
            "cell_type": "markdown", 
            "metadata": {}
        }, 
        {
            "source": "Run *k*-means to cluster the neighborhood into 2 clusters", 
            "cell_type": "markdown", 
            "metadata": {}
        }, 
        {
            "execution_count": 62, 
            "cell_type": "code", 
            "metadata": {}, 
            "outputs": [
                {
                    "execution_count": 62, 
                    "metadata": {}, 
                    "data": {
                        "text/plain": "array([0, 1], dtype=int32)"
                    }, 
                    "output_type": "execute_result"
                }
            ], 
            "source": "# set number of clusters\nkclusters = 2\n\nscot_grouped_clustering = scot_grouped.drop('neighborhood', 1)\n\n# run k-means clustering\nkmeans = KMeans(n_clusters=kclusters, random_state=0).fit(scot_grouped_clustering)\n\n# check cluster labels generated for each row in the dataframe\nkmeans.labels_[0:10] "
        }, 
        {
            "source": "Let's create a new dataframe that includes the cluster as well as the top 10 venues for each neighborhood", 
            "cell_type": "markdown", 
            "metadata": {}
        }, 
        {
            "execution_count": 64, 
            "cell_type": "code", 
            "metadata": {
                "scrolled": false
            }, 
            "outputs": [
                {
                    "execution_count": 64, 
                    "metadata": {}, 
                    "data": {
                        "text/html": "<div>\n<style scoped>\n    .dataframe tbody tr th:only-of-type {\n        vertical-align: middle;\n    }\n\n    .dataframe tbody tr th {\n        vertical-align: top;\n    }\n\n    .dataframe thead th {\n        text-align: right;\n    }\n</style>\n<table border=\"1\" class=\"dataframe\">\n  <thead>\n    <tr style=\"text-align: right;\">\n      <th></th>\n      <th>postal code</th>\n      <th>borough</th>\n      <th>neighborhood</th>\n      <th>latitude</th>\n      <th>longitude</th>\n      <th>cluster_labels</th>\n      <th>1st Most Common Venue</th>\n      <th>2nd Most Common Venue</th>\n      <th>3rd Most Common Venue</th>\n      <th>4th Most Common Venue</th>\n      <th>5th Most Common Venue</th>\n      <th>6th Most Common Venue</th>\n      <th>7th Most Common Venue</th>\n      <th>8th Most Common Venue</th>\n      <th>9th Most Common Venue</th>\n      <th>10th Most Common Venue</th>\n    </tr>\n  </thead>\n  <tbody>\n    <tr>\n      <th>0</th>\n      <td>G42 9DD</td>\n      <td>Glasgow</td>\n      <td>Mount Florida</td>\n      <td>55.8258</td>\n      <td>-4.2520</td>\n      <td>0</td>\n      <td>Caf\u00e9</td>\n      <td>Grocery Store</td>\n      <td>Indian Restaurant</td>\n      <td>Italian Restaurant</td>\n      <td>Park</td>\n      <td>History Museum</td>\n      <td>Pizza Place</td>\n      <td>Bar</td>\n      <td>Bookstore</td>\n      <td>Coffee Shop</td>\n    </tr>\n    <tr>\n      <th>1</th>\n      <td>EH12 5PJ</td>\n      <td>Edinburgh</td>\n      <td>Roseburn</td>\n      <td>55.9422</td>\n      <td>-3.2408</td>\n      <td>1</td>\n      <td>Hotel</td>\n      <td>Tram Station</td>\n      <td>Sports Bar</td>\n      <td>Pharmacy</td>\n      <td>Grocery Store</td>\n      <td>Bus Stop</td>\n      <td>Caf\u00e9</td>\n      <td>Chinese Restaurant</td>\n      <td>Clothing Store</td>\n      <td>Coffee Shop</td>\n    </tr>\n  </tbody>\n</table>\n</div>", 
                        "text/plain": "  postal code    borough   neighborhood  latitude  longitude  cluster_labels  \\\n0     G42 9DD    Glasgow  Mount Florida   55.8258    -4.2520               0   \n1    EH12 5PJ  Edinburgh       Roseburn   55.9422    -3.2408               1   \n\n  1st Most Common Venue 2nd Most Common Venue 3rd Most Common Venue  \\\n0                  Caf\u00e9         Grocery Store     Indian Restaurant   \n1                 Hotel          Tram Station            Sports Bar   \n\n  4th Most Common Venue 5th Most Common Venue 6th Most Common Venue  \\\n0    Italian Restaurant                  Park        History Museum   \n1              Pharmacy         Grocery Store              Bus Stop   \n\n  7th Most Common Venue 8th Most Common Venue 9th Most Common Venue  \\\n0           Pizza Place                   Bar             Bookstore   \n1                  Caf\u00e9    Chinese Restaurant        Clothing Store   \n\n  10th Most Common Venue  \n0            Coffee Shop  \n1            Coffee Shop  "
                    }, 
                    "output_type": "execute_result"
                }
            ], 
            "source": "scot_merged = df_data_1\n\n# add clustering labels\nscot_merged['cluster_labels'] = kmeans.labels_\n\n# merge scot_grouped with df data 1 to add latitude/longitude for each neighborhood\nscot_merged = scot_merged.join(neighborhoods_venues_sorted.set_index('neighborhood'), on='neighborhood')\n\nscot_merged.head() # check the last columns!"
        }, 
        {
            "source": "Finally, let's visualize the resulting clusters", 
            "cell_type": "markdown", 
            "metadata": {}
        }, 
        {
            "execution_count": 68, 
            "cell_type": "code", 
            "metadata": {
                "scrolled": false
            }, 
            "outputs": [
                {
                    "execution_count": 68, 
                    "metadata": {}, 
                    "data": {
                        "text/html": "<div style=\"width:100%;\"><div style=\"position:relative;width:100%;height:0;padding-bottom:60%;\"><iframe src=\"data:text/html;charset=utf-8;base64,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\" style=\"position:absolute;width:100%;height:100%;left:0;top:0;border:none !important;\" allowfullscreen webkitallowfullscreen mozallowfullscreen></iframe></div></div>", 
                        "text/plain": "<folium.folium.Map at 0x2b96499f1898>"
                    }, 
                    "output_type": "execute_result"
                }
            ], 
            "source": "# create map\nmap_clusters = folium.Map(location=[55.9024, -3.7431], zoom_start=9.5)\n\n# set color scheme for the clusters\nx = np.arange(kclusters)\nys = [i+x+(i*x)**2 for i in range(kclusters)]\ncolors_array = cm.rainbow(np.linspace(0, 1, len(ys)))\nrainbow = [colors.rgb2hex(i) for i in colors_array]\n\n# add markers to the map\nmarkers_colors = []\nfor lat, lon, poi, cluster in zip(scot_merged['latitude'], scot_merged['longitude'], scot_merged['neighborhood'], scot_merged['cluster_labels']):\n    label = str(poi) + ' Cluster ' + str(cluster)\n    folium.CircleMarker(\n        [lat, lon],\n        radius=5,\n        popup=label,\n        color=rainbow[cluster-1],\n        fill_color=rainbow[cluster-1],\n        fill_opacity=0.7).add_to(map_clusters)\n       \nmap_clusters"
        }, 
        {
            "source": "## 5. Examine Clusters", 
            "cell_type": "markdown", 
            "metadata": {}
        }, 
        {
            "source": "#### Cluster 1", 
            "cell_type": "markdown", 
            "metadata": {}
        }, 
        {
            "execution_count": 72, 
            "cell_type": "code", 
            "metadata": {}, 
            "outputs": [
                {
                    "execution_count": 72, 
                    "metadata": {}, 
                    "data": {
                        "text/html": "<div>\n<style scoped>\n    .dataframe tbody tr th:only-of-type {\n        vertical-align: middle;\n    }\n\n    .dataframe tbody tr th {\n        vertical-align: top;\n    }\n\n    .dataframe thead th {\n        text-align: right;\n    }\n</style>\n<table border=\"1\" class=\"dataframe\">\n  <thead>\n    <tr style=\"text-align: right;\">\n      <th></th>\n      <th>postal code</th>\n      <th>borough</th>\n      <th>neighborhood</th>\n      <th>latitude</th>\n      <th>longitude</th>\n      <th>cluster_labels</th>\n      <th>1st Most Common Venue</th>\n      <th>2nd Most Common Venue</th>\n      <th>3rd Most Common Venue</th>\n      <th>4th Most Common Venue</th>\n      <th>5th Most Common Venue</th>\n      <th>6th Most Common Venue</th>\n      <th>7th Most Common Venue</th>\n      <th>8th Most Common Venue</th>\n      <th>9th Most Common Venue</th>\n      <th>10th Most Common Venue</th>\n    </tr>\n  </thead>\n  <tbody>\n    <tr>\n      <th>0</th>\n      <td>G42 9DD</td>\n      <td>Glasgow</td>\n      <td>Mount Florida</td>\n      <td>55.8258</td>\n      <td>-4.252</td>\n      <td>0</td>\n      <td>Caf\u00e9</td>\n      <td>Grocery Store</td>\n      <td>Indian Restaurant</td>\n      <td>Italian Restaurant</td>\n      <td>Park</td>\n      <td>History Museum</td>\n      <td>Pizza Place</td>\n      <td>Bar</td>\n      <td>Bookstore</td>\n      <td>Coffee Shop</td>\n    </tr>\n  </tbody>\n</table>\n</div>", 
                        "text/plain": "  postal code  borough   neighborhood  latitude  longitude  cluster_labels  \\\n0     G42 9DD  Glasgow  Mount Florida   55.8258     -4.252               0   \n\n  1st Most Common Venue 2nd Most Common Venue 3rd Most Common Venue  \\\n0                  Caf\u00e9         Grocery Store     Indian Restaurant   \n\n  4th Most Common Venue 5th Most Common Venue 6th Most Common Venue  \\\n0    Italian Restaurant                  Park        History Museum   \n\n  7th Most Common Venue 8th Most Common Venue 9th Most Common Venue  \\\n0           Pizza Place                   Bar             Bookstore   \n\n  10th Most Common Venue  \n0            Coffee Shop  "
                    }, 
                    "output_type": "execute_result"
                }
            ], 
            "source": "scot_merged.loc[scot_merged['cluster_labels'] == 0]"
        }, 
        {
            "source": "#### Cluster 2", 
            "cell_type": "markdown", 
            "metadata": {}
        }, 
        {
            "execution_count": 73, 
            "cell_type": "code", 
            "metadata": {}, 
            "outputs": [
                {
                    "execution_count": 73, 
                    "metadata": {}, 
                    "data": {
                        "text/html": "<div>\n<style scoped>\n    .dataframe tbody tr th:only-of-type {\n        vertical-align: middle;\n    }\n\n    .dataframe tbody tr th {\n        vertical-align: top;\n    }\n\n    .dataframe thead th {\n        text-align: right;\n    }\n</style>\n<table border=\"1\" class=\"dataframe\">\n  <thead>\n    <tr style=\"text-align: right;\">\n      <th></th>\n      <th>postal code</th>\n      <th>borough</th>\n      <th>neighborhood</th>\n      <th>latitude</th>\n      <th>longitude</th>\n      <th>cluster_labels</th>\n      <th>1st Most Common Venue</th>\n      <th>2nd Most Common Venue</th>\n      <th>3rd Most Common Venue</th>\n      <th>4th Most Common Venue</th>\n      <th>5th Most Common Venue</th>\n      <th>6th Most Common Venue</th>\n      <th>7th Most Common Venue</th>\n      <th>8th Most Common Venue</th>\n      <th>9th Most Common Venue</th>\n      <th>10th Most Common Venue</th>\n    </tr>\n  </thead>\n  <tbody>\n    <tr>\n      <th>1</th>\n      <td>EH12 5PJ</td>\n      <td>Edinburgh</td>\n      <td>Roseburn</td>\n      <td>55.9422</td>\n      <td>-3.2408</td>\n      <td>1</td>\n      <td>Hotel</td>\n      <td>Tram Station</td>\n      <td>Sports Bar</td>\n      <td>Pharmacy</td>\n      <td>Grocery Store</td>\n      <td>Bus Stop</td>\n      <td>Caf\u00e9</td>\n      <td>Chinese Restaurant</td>\n      <td>Clothing Store</td>\n      <td>Coffee Shop</td>\n    </tr>\n  </tbody>\n</table>\n</div>", 
                        "text/plain": "  postal code    borough neighborhood  latitude  longitude  cluster_labels  \\\n1    EH12 5PJ  Edinburgh     Roseburn   55.9422    -3.2408               1   \n\n  1st Most Common Venue 2nd Most Common Venue 3rd Most Common Venue  \\\n1                 Hotel          Tram Station            Sports Bar   \n\n  4th Most Common Venue 5th Most Common Venue 6th Most Common Venue  \\\n1              Pharmacy         Grocery Store              Bus Stop   \n\n  7th Most Common Venue 8th Most Common Venue 9th Most Common Venue  \\\n1                  Caf\u00e9    Chinese Restaurant        Clothing Store   \n\n  10th Most Common Venue  \n1            Coffee Shop  "
                    }, 
                    "output_type": "execute_result"
                }
            ], 
            "source": "scot_merged.loc[scot_merged['cluster_labels'] == 1]"
        }, 
        {
            "source": "  # Thank you for reviewing!  ", 
            "cell_type": "markdown", 
            "metadata": {}
        }
    ], 
    "metadata": {
        "kernelspec": {
            "display_name": "Python 3.5", 
            "name": "python3", 
            "language": "python"
        }, 
        "language_info": {
            "mimetype": "text/x-python", 
            "nbconvert_exporter": "python", 
            "version": "3.5.5", 
            "name": "python", 
            "file_extension": ".py", 
            "pygments_lexer": "ipython3", 
            "codemirror_mode": {
                "version": 3, 
                "name": "ipython"
            }
        }
    }, 
    "nbformat": 4
}