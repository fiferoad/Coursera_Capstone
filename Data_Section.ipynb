{
    "nbformat_minor": 1, 
    "cells": [
        {
            "source": "# Data to be used to solve the problem\n\n## Foursquare location data will be the main source of data to be used to solve the problem. Foursquare API calls will be used to perform location searches, to pull in details about various businesses.\n\n## That may be combined with other available data where necessary.\n## e.g. Glasgow City Data https://data.glasgow.gov.uk/dataset Glasgow City Council data is now open by default. Datasets are categorized into Health, Living, Environment, Transportation, Energy, Geography, Demographics, Economy, Active Travel, and Public Safety.\n\n\n## Edinburgh City Data https://edinburghopendata.info, from the City of Edinburgh Council's open data store.\n\n## Transport data. http://ubdc.gla.ac.uk/dataset?tags=Transport&organization=glasgow-city-council from the Urban Big Data Centre (UBDC) that has been established in order to support a wide range of users conducting research on urban data and urban issues.\n\n## The high level plan is to cluster the data, compare and contrast the two venues and rank them for various categories of interest e.g. how many hotels, restaurants, bars. \n\n## By scoring each city against some basic criteria, it should be possible to recommend one venue over the other.", 
            "cell_type": "markdown", 
            "metadata": {}
        }
    ], 
    "metadata": {
        "kernelspec": {
            "display_name": "Python 3.5", 
            "name": "python3", 
            "language": "python"
        }, 
        "language_info": {
            "mimetype": "text/x-python", 
            "nbconvert_exporter": "python", 
            "version": "3.5.5", 
            "name": "python", 
            "file_extension": ".py", 
            "pygments_lexer": "ipython3", 
            "codemirror_mode": {
                "version": 3, 
                "name": "ipython"
            }
        }
    }, 
    "nbformat": 4
}