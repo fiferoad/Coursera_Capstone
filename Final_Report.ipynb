{
    "nbformat_minor": 1, 
    "cells": [
        {
            "source": "# Battle of Neighborhoods\n# Hampden v Murrayfield, Scotland\n\n# Description:\nHampden Park has been the home of the Scotland national football team since 1906, but its lease expires in 2020.\nThe Scottish Football Association (SFA) board needs to make a decision on whether to retain Hampden Stadium as the Scottish national football stadium or move high-profile matches, including Scotland internationals, to Murrayfield, the home of the Scottish Rugby Union (SRU).\nCirca 50,000 people attend Scotland football matches, and have to be accomodated, transported and entertained.\nThe board requires recommendations to be delivered to assist the decision-making process, supported by high level information and specific details.\nData Science will be used to help decide the city with the best location: Hampden in Glasgow, or Murrayfield in Edinburgh.\n\n# Data:\nFoursquare location data will be the main source of data to be used to solve the problem. Foursquare API calls will be used to perform location searches, to pull in details about various businesses.\nThat may be combined with other available data where necessary.\ne.g. Glasgow City Data https://data.glasgow.gov.uk/dataset Glasgow City Council data is now open by default. Datasets are categorized into Health, Living, Environment, Transportation, Energy, Geography, Demographics, Economy, Active Travel, and Public Safety.\nEdinburgh City Data https://edinburghopendata.info, from the City of Edinburgh Council's open data store.\nTransport data. http://ubdc.gla.ac.uk/dataset?tags=Transport&organization=glasgow-city-council from the Urban Big Data Centre (UBDC) that has been established in order to support a wide range of users conducting research on urban data and urban issues.\nThe high level plan is to cluster the data, compare and contrast the two venues and rank them for various categories of interest e.g. how many hotels, restaurants, bars.\nBy scoring each city against some basic criteria, it should be possible to recommend one venue over the other.\n\n# Methodology:\nFoursquare API server connections were used to extract information related to locations based on postcodes.\nFolium was used to visualize the locations distribution.\nK-mean clustering used to form clusters of different categories of places around the locations.\n\n# Results:\n\nHampden Cluster 0: Data shows Hampden is better for local football fans as it has cafes, grocery stores, Indian and italian restaurants, pizza places and bars and coffee shops. For visiting football fans it has a football history museum and a park nearby for visitors to hang out in the warmer months. The bookstores nearby are unlikely to appeal to football fans.\n\nMurrayfield Cluster 1: Data shows Murrayfield is better for visiting football fans as it has Hotels, and is better served by transport as it has tram stations and bus stops nearby. There are sports bars to appeal to all sports fans. There are also cafes, Chinese restaurants and coffee shops but less eating places than Hampden. The pharmacies and clothing stores nearby are unlikely to appeal to football fans.\n\n\n# Recommendations:\n\nThe author recommends that Murrayfield be used for football matches between teams from overseas e.g. European Cup Final given the quantity of hotels nearby and good transport links. The author recommends that Hampden be used for football matches between teams from Scotland and for Scottish National team matches given the excellent amenities around the stadium for home football fans. Recommend more research as part of feasiibility study now.\n\n# Conclusion:\n\nBoth venues are strong candidates to host major football matches. Hampden is the spiritual home of Scottish football and has enough amenities to retain it's place as the home venue for the Scottish national team and Scottish Cup Finals. However, Murrayfield would appeal to travelling fans for international-level matches not involving Scotland or Scottish Teams e.g. Champions League Finals. Further research should be carried out to assess the viability of using the two venues for the two different purposes described. Would it be cost effective to have only some matches at each venue rather than all matches at one of the venues?", 
            "cell_type": "markdown", 
            "metadata": {
                "collapsed": true
            }
        }
    ], 
    "metadata": {
        "kernelspec": {
            "display_name": "Python 3.5", 
            "name": "python3", 
            "language": "python"
        }, 
        "language_info": {
            "mimetype": "text/x-python", 
            "nbconvert_exporter": "python", 
            "version": "3.5.5", 
            "name": "python", 
            "file_extension": ".py", 
            "pygments_lexer": "ipython3", 
            "codemirror_mode": {
                "version": 3, 
                "name": "ipython"
            }
        }
    }, 
    "nbformat": 4
}