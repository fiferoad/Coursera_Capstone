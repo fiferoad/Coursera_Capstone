{
    "nbformat_minor": 1, 
    "cells": [
        {
            "source": "# Business Problem Description", 
            "cell_type": "markdown", 
            "metadata": {}
        }, 
        {
            "source": "## Hampden Park has been the home of the Scotland national football team since 1906, but its lease expires in 2020.\n\n## The Scottish Football Association (SFA) board needs to make a decision on whether to retain Hampden Stadium as the Scottish national football stadium or move high-profile matches, including Scotland internationals, to Murrayfield, the home of the Scottish Rugby Union (SRU).\n\n## Circa 50,000 people attend Scotland football matches, and have to be accomodated, transported and entertained.\n\n## The board requires recommendations to be delivered to assist the decision-making process, supported by high level information and specific details.\n\n## Data Science will be used to help decide the city with the best location: Hampden in Glasgow, or Murrayfield in Edinburgh.\n\n", 
            "cell_type": "markdown", 
            "metadata": {}
        }
    ], 
    "metadata": {
        "kernelspec": {
            "display_name": "Python 3.5", 
            "name": "python3", 
            "language": "python"
        }, 
        "language_info": {
            "mimetype": "text/x-python", 
            "nbconvert_exporter": "python", 
            "version": "3.5.5", 
            "name": "python", 
            "file_extension": ".py", 
            "pygments_lexer": "ipython3", 
            "codemirror_mode": {
                "version": 3, 
                "name": "ipython"
            }
        }
    }, 
    "nbformat": 4
}